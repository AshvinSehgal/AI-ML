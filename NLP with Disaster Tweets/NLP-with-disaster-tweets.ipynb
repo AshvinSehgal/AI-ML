{
 "cells": [
  {
   "cell_type": "code",
   "execution_count": 129,
   "metadata": {},
   "outputs": [],
   "source": [
    "import numpy as np\n",
    "import pandas as pd\n",
    "import nltk\n",
    "from tensorflow.keras.preprocessing.text import Tokenizer\n",
    "from tensorflow.keras.preprocessing.sequence import pad_sequences\n",
    "from tensorflow.keras.callbacks import EarlyStopping\n",
    "from tensorflow.keras.models import Sequential\n",
    "from tensorflow.keras.layers import Embedding,LSTM,Dense,Dropout,GRU\n",
    "from sklearn.model_selection import train_test_split"
   ]
  },
  {
   "cell_type": "code",
   "execution_count": 110,
   "metadata": {},
   "outputs": [
    {
     "data": {
      "text/html": [
       "<div>\n",
       "<style scoped>\n",
       "    .dataframe tbody tr th:only-of-type {\n",
       "        vertical-align: middle;\n",
       "    }\n",
       "\n",
       "    .dataframe tbody tr th {\n",
       "        vertical-align: top;\n",
       "    }\n",
       "\n",
       "    .dataframe thead th {\n",
       "        text-align: right;\n",
       "    }\n",
       "</style>\n",
       "<table border=\"1\" class=\"dataframe\">\n",
       "  <thead>\n",
       "    <tr style=\"text-align: right;\">\n",
       "      <th></th>\n",
       "      <th>id</th>\n",
       "      <th>keyword</th>\n",
       "      <th>location</th>\n",
       "      <th>text</th>\n",
       "      <th>target</th>\n",
       "    </tr>\n",
       "  </thead>\n",
       "  <tbody>\n",
       "    <tr>\n",
       "      <th>0</th>\n",
       "      <td>1</td>\n",
       "      <td>NaN</td>\n",
       "      <td>NaN</td>\n",
       "      <td>Our Deeds are the Reason of this #earthquake M...</td>\n",
       "      <td>1</td>\n",
       "    </tr>\n",
       "    <tr>\n",
       "      <th>1</th>\n",
       "      <td>4</td>\n",
       "      <td>NaN</td>\n",
       "      <td>NaN</td>\n",
       "      <td>Forest fire near La Ronge Sask. Canada</td>\n",
       "      <td>1</td>\n",
       "    </tr>\n",
       "    <tr>\n",
       "      <th>2</th>\n",
       "      <td>5</td>\n",
       "      <td>NaN</td>\n",
       "      <td>NaN</td>\n",
       "      <td>All residents asked to 'shelter in place' are ...</td>\n",
       "      <td>1</td>\n",
       "    </tr>\n",
       "    <tr>\n",
       "      <th>3</th>\n",
       "      <td>6</td>\n",
       "      <td>NaN</td>\n",
       "      <td>NaN</td>\n",
       "      <td>13,000 people receive #wildfires evacuation or...</td>\n",
       "      <td>1</td>\n",
       "    </tr>\n",
       "    <tr>\n",
       "      <th>4</th>\n",
       "      <td>7</td>\n",
       "      <td>NaN</td>\n",
       "      <td>NaN</td>\n",
       "      <td>Just got sent this photo from Ruby #Alaska as ...</td>\n",
       "      <td>1</td>\n",
       "    </tr>\n",
       "  </tbody>\n",
       "</table>\n",
       "</div>"
      ],
      "text/plain": [
       "   id keyword location                                               text  \\\n",
       "0   1     NaN      NaN  Our Deeds are the Reason of this #earthquake M...   \n",
       "1   4     NaN      NaN             Forest fire near La Ronge Sask. Canada   \n",
       "2   5     NaN      NaN  All residents asked to 'shelter in place' are ...   \n",
       "3   6     NaN      NaN  13,000 people receive #wildfires evacuation or...   \n",
       "4   7     NaN      NaN  Just got sent this photo from Ruby #Alaska as ...   \n",
       "\n",
       "   target  \n",
       "0       1  \n",
       "1       1  \n",
       "2       1  \n",
       "3       1  \n",
       "4       1  "
      ]
     },
     "execution_count": 110,
     "metadata": {},
     "output_type": "execute_result"
    }
   ],
   "source": [
    "train_data = pd.read_csv('train.csv')\n",
    "test_data = pd.read_csv('test.csv')\n",
    "train_data.head()"
   ]
  },
  {
   "cell_type": "code",
   "execution_count": 111,
   "metadata": {},
   "outputs": [
    {
     "name": "stdout",
     "output_type": "stream",
     "text": [
      "Train Data\n",
      "Sample size: 7613\n",
      "\n",
      "NaN values:\n",
      " id             0\n",
      "keyword       61\n",
      "location    2533\n",
      "text           0\n",
      "target         0\n",
      "dtype: int64\n",
      "\n",
      "Unique values:\n",
      "keyword: 222\n",
      "location: 3342\n"
     ]
    }
   ],
   "source": [
    "print('Train Data')\n",
    "print('Sample size:',len(train_data))\n",
    "print('\\nNaN values:\\n',train_data.isna().sum())\n",
    "print('\\nUnique values:')\n",
    "print('keyword:',len(train_data['keyword'].unique()))\n",
    "print('location:',len(train_data['location'].unique()))\n",
    "\n",
    "train_data['keyword'] = train_data['keyword'].fillna('NoKeyword')\n",
    "train_data['location'] = train_data['location'].fillna('NoLocation')\n",
    "\n",
    "train_data['keyword'] = train_data['keyword'].str.lower()\n",
    "train_data['location'] = train_data['location'].str.lower()\n",
    "train_data['text'] = train_data['text'].str.lower()"
   ]
  },
  {
   "cell_type": "code",
   "execution_count": 112,
   "metadata": {},
   "outputs": [
    {
     "name": "stdout",
     "output_type": "stream",
     "text": [
      "Test Data\n",
      "Sample size: 3263\n",
      "\n",
      "NaN values:\n",
      " id             0\n",
      "keyword       26\n",
      "location    1105\n",
      "text           0\n",
      "dtype: int64\n",
      "\n",
      "Unique values:\n",
      "keyword: 222\n",
      "location: 1603\n"
     ]
    }
   ],
   "source": [
    "print('Test Data')\n",
    "print('Sample size:',len(test_data))\n",
    "print('\\nNaN values:\\n',test_data.isna().sum())\n",
    "print('\\nUnique values:')\n",
    "print('keyword:',len(test_data['keyword'].unique()))\n",
    "print('location:',len(test_data['location'].unique()))\n",
    "\n",
    "test_data['keyword'] = test_data['keyword'].fillna('NoKeyword')\n",
    "test_data['location'] = test_data['location'].fillna('NoLocation')\n",
    "\n",
    "test_data['keyword'] = test_data['keyword'].str.lower()\n",
    "test_data['location'] = test_data['location'].str.lower()\n",
    "test_data['text'] = test_data['text'].str.lower()"
   ]
  },
  {
   "cell_type": "code",
   "execution_count": 114,
   "metadata": {},
   "outputs": [
    {
     "name": "stdout",
     "output_type": "stream",
     "text": [
      "Vocabulary size:\n",
      "Text: 22701\n",
      "Keyword: 241\n",
      "Location: 3325\n"
     ]
    }
   ],
   "source": [
    "text_tokenizer = Tokenizer()\n",
    "keyword_tokenizer = Tokenizer()\n",
    "location_tokenizer = Tokenizer()\n",
    "\n",
    "text_tokenizer.fit_on_texts(train_data['text'])\n",
    "keyword_tokenizer.fit_on_texts(train_data['keyword'])\n",
    "location_tokenizer.fit_on_texts(train_data['location'])\n",
    "\n",
    "print('Vocabulary size:')\n",
    "print('Text:',len(text_tokenizer.word_index)+1)\n",
    "print('Keyword:',len(keyword_tokenizer.word_index)+1)\n",
    "print('Location:',len(location_tokenizer.word_index)+1)"
   ]
  },
  {
   "cell_type": "code",
   "execution_count": 118,
   "metadata": {},
   "outputs": [],
   "source": [
    "text_input_sequences = []\n",
    "for line in train_data['text']:\n",
    "    tokens = text_tokenizer.texts_to_sequences(line)\n",
    "    text_input_sequences.append(tokens)\n",
    "\n",
    "keyword_input_sequences = []\n",
    "for line in train_data['keyword']:\n",
    "    tokens = keyword_tokenizer.texts_to_sequences([line])\n",
    "    keyword_input_sequences.append(tokens)\n",
    "        \n",
    "location_input_sequences = []\n",
    "for line in train_data['location']:\n",
    "    tokens = location_tokenizer.texts_to_sequences([line])\n",
    "    location_input_sequences.append(tokens)"
   ]
  },
  {
   "cell_type": "code",
   "execution_count": 125,
   "metadata": {},
   "outputs": [],
   "source": [
    "x = []\n",
    "for i in range(len(text_input_sequences)):\n",
    "    x.append([text_input_sequences[i], keyword_input_sequences[i], location_input_sequences[i]])\n",
    "y = list(train_data['target'])"
   ]
  },
  {
   "cell_type": "code",
   "execution_count": 126,
   "metadata": {},
   "outputs": [],
   "source": [
    "x_train, x_test, y_train, y_test = train_test_split(x, y, test_size=0.2)"
   ]
  },
  {
   "cell_type": "code",
   "execution_count": 128,
   "metadata": {},
   "outputs": [],
   "source": [
    "early_stopping = EarlyStopping(monitor='val_loss', patience=3, restore_best_weights=True)"
   ]
  },
  {
   "cell_type": "code",
   "execution_count": null,
   "metadata": {},
   "outputs": [],
   "source": []
  }
 ],
 "metadata": {
  "kernelspec": {
   "display_name": ".venv",
   "language": "python",
   "name": "python3"
  },
  "language_info": {
   "codemirror_mode": {
    "name": "ipython",
    "version": 3
   },
   "file_extension": ".py",
   "mimetype": "text/x-python",
   "name": "python",
   "nbconvert_exporter": "python",
   "pygments_lexer": "ipython3",
   "version": "3.12.0"
  }
 },
 "nbformat": 4,
 "nbformat_minor": 2
}
