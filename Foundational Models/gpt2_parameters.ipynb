{
 "cells": [
  {
   "cell_type": "code",
   "execution_count": 1,
   "id": "21e868c0",
   "metadata": {},
   "outputs": [
    {
     "name": "stdout",
     "output_type": "stream",
     "text": [
      "Requirement already satisfied: transformers in /Library/Frameworks/Python.framework/Versions/3.12/lib/python3.12/site-packages (4.56.1)\n",
      "Requirement already satisfied: torch in /Library/Frameworks/Python.framework/Versions/3.12/lib/python3.12/site-packages (2.8.0)\n",
      "Requirement already satisfied: filelock in /Library/Frameworks/Python.framework/Versions/3.12/lib/python3.12/site-packages (from transformers) (3.19.1)\n",
      "Requirement already satisfied: huggingface-hub<1.0,>=0.34.0 in /Library/Frameworks/Python.framework/Versions/3.12/lib/python3.12/site-packages (from transformers) (0.34.4)\n",
      "Requirement already satisfied: numpy>=1.17 in /Library/Frameworks/Python.framework/Versions/3.12/lib/python3.12/site-packages (from transformers) (1.26.4)\n",
      "Requirement already satisfied: packaging>=20.0 in /Library/Frameworks/Python.framework/Versions/3.12/lib/python3.12/site-packages (from transformers) (25.0)\n",
      "Requirement already satisfied: pyyaml>=5.1 in /Library/Frameworks/Python.framework/Versions/3.12/lib/python3.12/site-packages (from transformers) (6.0.2)\n",
      "Requirement already satisfied: regex!=2019.12.17 in /Library/Frameworks/Python.framework/Versions/3.12/lib/python3.12/site-packages (from transformers) (2025.9.1)\n",
      "Requirement already satisfied: requests in /Library/Frameworks/Python.framework/Versions/3.12/lib/python3.12/site-packages (from transformers) (2.32.5)\n",
      "Requirement already satisfied: tokenizers<=0.23.0,>=0.22.0 in /Library/Frameworks/Python.framework/Versions/3.12/lib/python3.12/site-packages (from transformers) (0.22.0)\n",
      "Requirement already satisfied: safetensors>=0.4.3 in /Library/Frameworks/Python.framework/Versions/3.12/lib/python3.12/site-packages (from transformers) (0.6.2)\n",
      "Requirement already satisfied: tqdm>=4.27 in /Library/Frameworks/Python.framework/Versions/3.12/lib/python3.12/site-packages (from transformers) (4.67.1)\n",
      "Requirement already satisfied: fsspec>=2023.5.0 in /Library/Frameworks/Python.framework/Versions/3.12/lib/python3.12/site-packages (from huggingface-hub<1.0,>=0.34.0->transformers) (2025.9.0)\n",
      "Requirement already satisfied: typing-extensions>=3.7.4.3 in /Library/Frameworks/Python.framework/Versions/3.12/lib/python3.12/site-packages (from huggingface-hub<1.0,>=0.34.0->transformers) (4.14.1)\n",
      "Requirement already satisfied: hf-xet<2.0.0,>=1.1.3 in /Library/Frameworks/Python.framework/Versions/3.12/lib/python3.12/site-packages (from huggingface-hub<1.0,>=0.34.0->transformers) (1.1.9)\n",
      "Requirement already satisfied: setuptools in /Library/Frameworks/Python.framework/Versions/3.12/lib/python3.12/site-packages (from torch) (80.9.0)\n",
      "Requirement already satisfied: sympy>=1.13.3 in /Library/Frameworks/Python.framework/Versions/3.12/lib/python3.12/site-packages (from torch) (1.14.0)\n",
      "Requirement already satisfied: networkx in /Library/Frameworks/Python.framework/Versions/3.12/lib/python3.12/site-packages (from torch) (3.5)\n",
      "Requirement already satisfied: jinja2 in /Library/Frameworks/Python.framework/Versions/3.12/lib/python3.12/site-packages (from torch) (3.1.6)\n",
      "Requirement already satisfied: mpmath<1.4,>=1.1.0 in /Library/Frameworks/Python.framework/Versions/3.12/lib/python3.12/site-packages (from sympy>=1.13.3->torch) (1.3.0)\n",
      "Requirement already satisfied: MarkupSafe>=2.0 in /Library/Frameworks/Python.framework/Versions/3.12/lib/python3.12/site-packages (from jinja2->torch) (3.0.2)\n",
      "Requirement already satisfied: charset_normalizer<4,>=2 in /Library/Frameworks/Python.framework/Versions/3.12/lib/python3.12/site-packages (from requests->transformers) (3.4.3)\n",
      "Requirement already satisfied: idna<4,>=2.5 in /Library/Frameworks/Python.framework/Versions/3.12/lib/python3.12/site-packages (from requests->transformers) (3.10)\n",
      "Requirement already satisfied: urllib3<3,>=1.21.1 in /Library/Frameworks/Python.framework/Versions/3.12/lib/python3.12/site-packages (from requests->transformers) (2.5.0)\n",
      "Requirement already satisfied: certifi>=2017.4.17 in /Library/Frameworks/Python.framework/Versions/3.12/lib/python3.12/site-packages (from requests->transformers) (2025.10.5)\n"
     ]
    }
   ],
   "source": [
    "!pip install transformers torch"
   ]
  },
  {
   "cell_type": "code",
   "execution_count": 2,
   "id": "824d89c4",
   "metadata": {},
   "outputs": [
    {
     "name": "stderr",
     "output_type": "stream",
     "text": [
      "/Library/Frameworks/Python.framework/Versions/3.12/lib/python3.12/site-packages/tqdm/auto.py:21: TqdmWarning: IProgress not found. Please update jupyter and ipywidgets. See https://ipywidgets.readthedocs.io/en/stable/user_install.html\n",
      "  from .autonotebook import tqdm as notebook_tqdm\n"
     ]
    }
   ],
   "source": [
    "from transformers import GPT2Model\n",
    "model = GPT2Model.from_pretrained('gpt2')"
   ]
  },
  {
   "cell_type": "code",
   "execution_count": 3,
   "id": "e61c02ec",
   "metadata": {},
   "outputs": [
    {
     "name": "stdout",
     "output_type": "stream",
     "text": [
      "GPT2Model(\n",
      "  (wte): Embedding(50257, 768)\n",
      "  (wpe): Embedding(1024, 768)\n",
      "  (drop): Dropout(p=0.1, inplace=False)\n",
      "  (h): ModuleList(\n",
      "    (0-11): 12 x GPT2Block(\n",
      "      (ln_1): LayerNorm((768,), eps=1e-05, elementwise_affine=True)\n",
      "      (attn): GPT2Attention(\n",
      "        (c_attn): Conv1D(nf=2304, nx=768)\n",
      "        (c_proj): Conv1D(nf=768, nx=768)\n",
      "        (attn_dropout): Dropout(p=0.1, inplace=False)\n",
      "        (resid_dropout): Dropout(p=0.1, inplace=False)\n",
      "      )\n",
      "      (ln_2): LayerNorm((768,), eps=1e-05, elementwise_affine=True)\n",
      "      (mlp): GPT2MLP(\n",
      "        (c_fc): Conv1D(nf=3072, nx=768)\n",
      "        (c_proj): Conv1D(nf=768, nx=3072)\n",
      "        (act): NewGELUActivation()\n",
      "        (dropout): Dropout(p=0.1, inplace=False)\n",
      "      )\n",
      "    )\n",
      "  )\n",
      "  (ln_f): LayerNorm((768,), eps=1e-05, elementwise_affine=True)\n",
      ")\n",
      "Total # of params: 124.44M\n"
     ]
    }
   ],
   "source": [
    "def count_params(model, is_human: bool = False):\n",
    "    params: int = sum(p.numel() for p in model.parameters() if p.requires_grad)\n",
    "    return f\"{params / 1e6:.2f}M\" if is_human else params\n",
    "\n",
    "print(model)\n",
    "print(\"Total # of params:\", count_params(model, is_human=True))"
   ]
  },
  {
   "cell_type": "code",
   "execution_count": 4,
   "id": "535e5faa",
   "metadata": {},
   "outputs": [
    {
     "name": "stdout",
     "output_type": "stream",
     "text": [
      "wte | Expected: 38597376\n",
      "wte | True:     38597376\n",
      "wpe | Expected: 786432\n",
      "wpe | True:     786432\n"
     ]
    }
   ],
   "source": [
    "V: int = model.config.vocab_size\n",
    "E: int = model.config.n_embd\n",
    "P: int = model.config.n_positions\n",
    "expected_wte = V * E\n",
    "expected_wpe: int = P * E\n",
    "print(f\"wte | Expected: {expected_wte}\")\n",
    "print(f\"wte | True:     {count_params(model._modules['wte'])}\")\n",
    "print(f\"wpe | Expected: {expected_wpe}\")\n",
    "print(f\"wpe | True:     {count_params(model._modules['wpe'])}\")"
   ]
  },
  {
   "cell_type": "code",
   "execution_count": 5,
   "id": "752641e8",
   "metadata": {},
   "outputs": [
    {
     "name": "stdout",
     "output_type": "stream",
     "text": [
      "ln_1 | Expected: 1536\n",
      "ln_1 | True:     1536\n"
     ]
    }
   ],
   "source": [
    "expected_ln_1 = 2 * E\n",
    "print(f\"ln_1 | Expected: {expected_ln_1}\")\n",
    "print(f\"ln_1 | True:     {count_params(model._modules['h'][0].ln_1)}\")"
   ]
  },
  {
   "cell_type": "code",
   "execution_count": 6,
   "id": "35338e66",
   "metadata": {},
   "outputs": [
    {
     "name": "stdout",
     "output_type": "stream",
     "text": [
      "c_attn | Expected: 1771776\n",
      "c_attn | True:     1771776\n",
      "c_proj | Expected: 590592\n",
      "c_proj | True:     590592\n",
      "attn_dropout | Expected: 0\n",
      "attn_dropout | True:     0\n",
      "resid_dropout | Expected: 0\n",
      "resid_dropout | True:     0\n",
      "attn | Expected: 2362368\n",
      "attn | True:     2362368\n"
     ]
    }
   ],
   "source": [
    "expected_c_attn = E * (3 * E) + (3 * E)\n",
    "expected_c_proj = E * E + E\n",
    "expected_attn_dropout = 0\n",
    "expected_resid_dropout = 0\n",
    "expected_attn = expected_c_attn + expected_c_proj + expected_attn_dropout + expected_resid_dropout\n",
    "print(f\"c_attn | Expected: {expected_c_attn}\")\n",
    "print(f\"c_attn | True:     {count_params(model._modules['h'][0].attn.c_attn)}\")\n",
    "print(f\"c_proj | Expected: {expected_c_proj}\")\n",
    "print(f\"c_proj | True:     {count_params(model._modules['h'][0].attn.c_proj)}\")\n",
    "print(f\"attn_dropout | Expected: {expected_attn_dropout}\")\n",
    "print(f\"attn_dropout | True:     {count_params(model._modules['h'][0].attn.attn_dropout)}\")\n",
    "print(f\"resid_dropout | Expected: {expected_resid_dropout}\")\n",
    "print(f\"resid_dropout | True:     {count_params(model._modules['h'][0].attn.resid_dropout)}\")\n",
    "print(f\"attn | Expected: {expected_attn}\")\n",
    "print(f\"attn | True:     {count_params(model._modules['h'][0].attn)}\")"
   ]
  },
  {
   "cell_type": "code",
   "execution_count": 7,
   "id": "6e5c6457",
   "metadata": {},
   "outputs": [
    {
     "name": "stdout",
     "output_type": "stream",
     "text": [
      "ln_2 | Expected: 1536\n",
      "ln_2 | True:     1536\n"
     ]
    }
   ],
   "source": [
    "expected_ln_2 = 2 * E\n",
    "print(f\"ln_2 | Expected: {expected_ln_2}\")\n",
    "print(f\"ln_2 | True:     {count_params(model._modules['h'][0].ln_2)}\")"
   ]
  },
  {
   "cell_type": "code",
   "execution_count": 8,
   "id": "5a738e11",
   "metadata": {},
   "outputs": [
    {
     "name": "stdout",
     "output_type": "stream",
     "text": [
      "c_fc | Expected: 2362368\n",
      "c_fc | True:     2362368\n",
      "c_proj | Expected: 2360064\n",
      "c_proj | True:     2360064\n",
      "act | Expected: 0\n",
      "act | True:     0\n",
      "dropout | Expected: 0\n",
      "dropout | True:     0\n",
      "mlp | Expected: 4722432\n",
      "mlp | True:     4722432\n"
     ]
    }
   ],
   "source": [
    "H: int = 4 * E\n",
    "expected_c_fc = E * H + H\n",
    "expected_c_proj = H * E + E\n",
    "expected_act = 0\n",
    "expected_dropout = 0\n",
    "expected_mlp = expected_c_fc + expected_c_proj + expected_act + expected_dropout\n",
    "print(f\"c_fc | Expected: {expected_c_fc}\")\n",
    "print(f\"c_fc | True:     {count_params(model._modules['h'][0].mlp.c_fc)}\")\n",
    "print(f\"c_proj | Expected: {expected_c_proj}\")\n",
    "print(f\"c_proj | True:     {count_params(model._modules['h'][0].mlp.c_proj)}\")\n",
    "print(f\"act | Expected: {expected_act}\")\n",
    "print(f\"act | True:     {count_params(model._modules['h'][0].mlp.act)}\")\n",
    "print(f\"dropout | Expected: {expected_dropout}\")\n",
    "print(f\"dropout | True:     {count_params(model._modules['h'][0].mlp.dropout)}\")\n",
    "print(f\"mlp | Expected: {expected_mlp}\")\n",
    "print(f\"mlp | True:     {count_params(model._modules['h'][0].mlp)}\")"
   ]
  },
  {
   "cell_type": "code",
   "execution_count": 9,
   "id": "edf7885d",
   "metadata": {},
   "outputs": [
    {
     "name": "stdout",
     "output_type": "stream",
     "text": [
      "ln_f | Expected: 1536\n",
      "ln_f | True:     1536\n"
     ]
    }
   ],
   "source": [
    "expected_ln_f = 2 * E\n",
    "print(f\"ln_f | Expected: {expected_ln_f}\")\n",
    "print(f\"ln_f | True:     {count_params(model._modules['ln_f'])}\")"
   ]
  },
  {
   "cell_type": "code",
   "execution_count": 10,
   "id": "371470c1",
   "metadata": {},
   "outputs": [
    {
     "name": "stdout",
     "output_type": "stream",
     "text": [
      "gpt2 | Expected: 124439808\n",
      "gpt2 | True:     124439808\n"
     ]
    }
   ],
   "source": [
    "L: int = model.config.n_layer\n",
    "expected_gpt2: int = E * (V + P) + L * (12 * E * E + 13 * E) + (2 * E)\n",
    "print(f\"gpt2 | Expected: {expected_gpt2}\")\n",
    "print(f\"gpt2 | True:     {count_params(model)}\")"
   ]
  },
  {
   "cell_type": "code",
   "execution_count": null,
   "id": "729a9862",
   "metadata": {},
   "outputs": [],
   "source": []
  }
 ],
 "metadata": {
  "kernelspec": {
   "display_name": "Python 3",
   "language": "python",
   "name": "python3"
  },
  "language_info": {
   "codemirror_mode": {
    "name": "ipython",
    "version": 3
   },
   "file_extension": ".py",
   "mimetype": "text/x-python",
   "name": "python",
   "nbconvert_exporter": "python",
   "pygments_lexer": "ipython3",
   "version": "3.12.6"
  }
 },
 "nbformat": 4,
 "nbformat_minor": 5
}
