{
 "cells": [
  {
   "cell_type": "code",
   "execution_count": 68,
   "metadata": {},
   "outputs": [],
   "source": [
    "import numpy as np\n",
    "import pandas as pd\n",
    "import re\n",
    "import nltk\n",
    "from nltk.corpus import stopwords\n",
    "from nltk.tokenize import word_tokenize\n",
    "from nltk.stem import WordNetLemmatizer\n",
    "import tensorflow as tf\n",
    "from tensorflow.keras.preprocessing.text import Tokenizer\n",
    "from tensorflow.keras.preprocessing.sequence import pad_sequences\n",
    "from tensorflow.keras.callbacks import EarlyStopping\n",
    "from tensorflow.keras.models import Sequential, Model\n",
    "from tensorflow.keras.layers import Embedding,Concatenate,Input,Bidirectional,LSTM,Dense,Dropout,GRU\n",
    "from sklearn.model_selection import train_test_split"
   ]
  },
  {
   "cell_type": "code",
   "execution_count": 41,
   "metadata": {},
   "outputs": [
    {
     "name": "stdout",
     "output_type": "stream",
     "text": [
      "                                              Review     label\n",
      "0  Great music service, the audio is high quality...  POSITIVE\n",
      "1  Please ignore previous negative rating. This a...  POSITIVE\n",
      "2  This pop-up \"Get the best Spotify experience o...  NEGATIVE\n",
      "3    Really buggy and terrible to use as of recently  NEGATIVE\n",
      "4  Dear Spotify why do I get songs that I didn't ...  NEGATIVE\n",
      "(52702, 2)\n"
     ]
    }
   ],
   "source": [
    "data = pd.read_csv('DATASET.csv')\n",
    "print(data.head())\n",
    "print(data.shape)"
   ]
  },
  {
   "cell_type": "code",
   "execution_count": 42,
   "metadata": {},
   "outputs": [
    {
     "data": {
      "text/plain": [
       "Review    16\n",
       "label      0\n",
       "dtype: int64"
      ]
     },
     "execution_count": 42,
     "metadata": {},
     "output_type": "execute_result"
    }
   ],
   "source": [
    "data.isna().sum()"
   ]
  },
  {
   "cell_type": "code",
   "execution_count": 43,
   "metadata": {},
   "outputs": [
    {
     "data": {
      "text/plain": [
       "(52686, 2)"
      ]
     },
     "execution_count": 43,
     "metadata": {},
     "output_type": "execute_result"
    }
   ],
   "source": [
    "data = data.dropna()\n",
    "data.shape"
   ]
  },
  {
   "cell_type": "code",
   "execution_count": 53,
   "metadata": {},
   "outputs": [],
   "source": [
    "data['Review'] = data['Review'].astype(str).str.replace(r'Ã[\\x80-\\xBF]+|[^a-zA-Z\\s]|\\s+', ' ', regex=True).str.strip().str.lower()"
   ]
  },
  {
   "cell_type": "code",
   "execution_count": 54,
   "metadata": {},
   "outputs": [
    {
     "data": {
      "text/html": [
       "<div>\n",
       "<style scoped>\n",
       "    .dataframe tbody tr th:only-of-type {\n",
       "        vertical-align: middle;\n",
       "    }\n",
       "\n",
       "    .dataframe tbody tr th {\n",
       "        vertical-align: top;\n",
       "    }\n",
       "\n",
       "    .dataframe thead th {\n",
       "        text-align: right;\n",
       "    }\n",
       "</style>\n",
       "<table border=\"1\" class=\"dataframe\">\n",
       "  <thead>\n",
       "    <tr style=\"text-align: right;\">\n",
       "      <th></th>\n",
       "      <th>Review</th>\n",
       "      <th>label</th>\n",
       "      <th>Tokenized Text</th>\n",
       "      <th>Text Without Stopwords</th>\n",
       "      <th>Text Lemmatized</th>\n",
       "      <th>Review Tokenized</th>\n",
       "    </tr>\n",
       "  </thead>\n",
       "  <tbody>\n",
       "    <tr>\n",
       "      <th>0</th>\n",
       "      <td>great music service the audio is high quality ...</td>\n",
       "      <td>POSITIVE</td>\n",
       "      <td>[great, music, service, the, audio, is, high, ...</td>\n",
       "      <td>[great, music, service, audio, high, quality, ...</td>\n",
       "      <td>[great, music, service, audio, high, quality, ...</td>\n",
       "      <td>[great, music, service, the, audio, is, high, ...</td>\n",
       "    </tr>\n",
       "    <tr>\n",
       "      <th>1</th>\n",
       "      <td>please ignore previous negative rating this ap...</td>\n",
       "      <td>POSITIVE</td>\n",
       "      <td>[please, ignore, previous, negative, rating, t...</td>\n",
       "      <td>[please, ignore, previous, negative, rating, a...</td>\n",
       "      <td>[please, ignore, previous, negative, rat, app,...</td>\n",
       "      <td>[please, ignore, previous, negative, rating, t...</td>\n",
       "    </tr>\n",
       "    <tr>\n",
       "      <th>2</th>\n",
       "      <td>this pop up get the best spotify experience on...</td>\n",
       "      <td>NEGATIVE</td>\n",
       "      <td>[this, pop, up, get, the, best, spotify, exper...</td>\n",
       "      <td>[pop, get, best, spotify, experience, android,...</td>\n",
       "      <td>[pop, get, best, spotify, experience, android,...</td>\n",
       "      <td>[this, pop, up, get, the, best, spotify, exper...</td>\n",
       "    </tr>\n",
       "    <tr>\n",
       "      <th>3</th>\n",
       "      <td>really buggy and terrible to use as of recently</td>\n",
       "      <td>NEGATIVE</td>\n",
       "      <td>[really, buggy, and, terrible, to, use, as, of...</td>\n",
       "      <td>[really, buggy, terrible, use, recently]</td>\n",
       "      <td>[really, buggy, terrible, use, recently]</td>\n",
       "      <td>[really, buggy, and, terrible, to, use, as, of...</td>\n",
       "    </tr>\n",
       "    <tr>\n",
       "      <th>4</th>\n",
       "      <td>dear spotify why do i get songs that i didn t ...</td>\n",
       "      <td>NEGATIVE</td>\n",
       "      <td>[dear, spotify, why, do, i, get, songs, that, ...</td>\n",
       "      <td>[dear, spotify, get, songs, put, playlist, shu...</td>\n",
       "      <td>[dear, spotify, get, songs, put, playlist, shu...</td>\n",
       "      <td>[dear, spotify, why, do, i, get, songs, that, ...</td>\n",
       "    </tr>\n",
       "  </tbody>\n",
       "</table>\n",
       "</div>"
      ],
      "text/plain": [
       "                                              Review     label  \\\n",
       "0  great music service the audio is high quality ...  POSITIVE   \n",
       "1  please ignore previous negative rating this ap...  POSITIVE   \n",
       "2  this pop up get the best spotify experience on...  NEGATIVE   \n",
       "3    really buggy and terrible to use as of recently  NEGATIVE   \n",
       "4  dear spotify why do i get songs that i didn t ...  NEGATIVE   \n",
       "\n",
       "                                      Tokenized Text  \\\n",
       "0  [great, music, service, the, audio, is, high, ...   \n",
       "1  [please, ignore, previous, negative, rating, t...   \n",
       "2  [this, pop, up, get, the, best, spotify, exper...   \n",
       "3  [really, buggy, and, terrible, to, use, as, of...   \n",
       "4  [dear, spotify, why, do, i, get, songs, that, ...   \n",
       "\n",
       "                              Text Without Stopwords  \\\n",
       "0  [great, music, service, audio, high, quality, ...   \n",
       "1  [please, ignore, previous, negative, rating, a...   \n",
       "2  [pop, get, best, spotify, experience, android,...   \n",
       "3           [really, buggy, terrible, use, recently]   \n",
       "4  [dear, spotify, get, songs, put, playlist, shu...   \n",
       "\n",
       "                                     Text Lemmatized  \\\n",
       "0  [great, music, service, audio, high, quality, ...   \n",
       "1  [please, ignore, previous, negative, rat, app,...   \n",
       "2  [pop, get, best, spotify, experience, android,...   \n",
       "3           [really, buggy, terrible, use, recently]   \n",
       "4  [dear, spotify, get, songs, put, playlist, shu...   \n",
       "\n",
       "                                    Review Tokenized  \n",
       "0  [great, music, service, the, audio, is, high, ...  \n",
       "1  [please, ignore, previous, negative, rating, t...  \n",
       "2  [this, pop, up, get, the, best, spotify, exper...  \n",
       "3  [really, buggy, and, terrible, to, use, as, of...  \n",
       "4  [dear, spotify, why, do, i, get, songs, that, ...  "
      ]
     },
     "execution_count": 54,
     "metadata": {},
     "output_type": "execute_result"
    }
   ],
   "source": [
    "tokenized_reviews = []\n",
    "for review in data['Review']:\n",
    "    tokens = word_tokenize(review)\n",
    "    tokenized_reviews.append(tokens)\n",
    "data['Review Tokenized'] = tokenized_reviews\n",
    "data.head()"
   ]
  },
  {
   "cell_type": "code",
   "execution_count": 55,
   "metadata": {},
   "outputs": [
    {
     "data": {
      "text/html": [
       "<div>\n",
       "<style scoped>\n",
       "    .dataframe tbody tr th:only-of-type {\n",
       "        vertical-align: middle;\n",
       "    }\n",
       "\n",
       "    .dataframe tbody tr th {\n",
       "        vertical-align: top;\n",
       "    }\n",
       "\n",
       "    .dataframe thead th {\n",
       "        text-align: right;\n",
       "    }\n",
       "</style>\n",
       "<table border=\"1\" class=\"dataframe\">\n",
       "  <thead>\n",
       "    <tr style=\"text-align: right;\">\n",
       "      <th></th>\n",
       "      <th>Review</th>\n",
       "      <th>label</th>\n",
       "      <th>Tokenized Text</th>\n",
       "      <th>Text Without Stopwords</th>\n",
       "      <th>Text Lemmatized</th>\n",
       "      <th>Review Tokenized</th>\n",
       "      <th>Review Without Stopwords</th>\n",
       "    </tr>\n",
       "  </thead>\n",
       "  <tbody>\n",
       "    <tr>\n",
       "      <th>0</th>\n",
       "      <td>great music service the audio is high quality ...</td>\n",
       "      <td>POSITIVE</td>\n",
       "      <td>[great, music, service, the, audio, is, high, ...</td>\n",
       "      <td>[great, music, service, audio, high, quality, ...</td>\n",
       "      <td>[great, music, service, audio, high, quality, ...</td>\n",
       "      <td>[great, music, service, the, audio, is, high, ...</td>\n",
       "      <td>[great, music, service, audio, high, quality, ...</td>\n",
       "    </tr>\n",
       "    <tr>\n",
       "      <th>1</th>\n",
       "      <td>please ignore previous negative rating this ap...</td>\n",
       "      <td>POSITIVE</td>\n",
       "      <td>[please, ignore, previous, negative, rating, t...</td>\n",
       "      <td>[please, ignore, previous, negative, rating, a...</td>\n",
       "      <td>[please, ignore, previous, negative, rat, app,...</td>\n",
       "      <td>[please, ignore, previous, negative, rating, t...</td>\n",
       "      <td>[please, ignore, previous, negative, rating, a...</td>\n",
       "    </tr>\n",
       "    <tr>\n",
       "      <th>2</th>\n",
       "      <td>this pop up get the best spotify experience on...</td>\n",
       "      <td>NEGATIVE</td>\n",
       "      <td>[this, pop, up, get, the, best, spotify, exper...</td>\n",
       "      <td>[pop, get, best, spotify, experience, android,...</td>\n",
       "      <td>[pop, get, best, spotify, experience, android,...</td>\n",
       "      <td>[this, pop, up, get, the, best, spotify, exper...</td>\n",
       "      <td>[pop, get, best, spotify, experience, android,...</td>\n",
       "    </tr>\n",
       "    <tr>\n",
       "      <th>3</th>\n",
       "      <td>really buggy and terrible to use as of recently</td>\n",
       "      <td>NEGATIVE</td>\n",
       "      <td>[really, buggy, and, terrible, to, use, as, of...</td>\n",
       "      <td>[really, buggy, terrible, use, recently]</td>\n",
       "      <td>[really, buggy, terrible, use, recently]</td>\n",
       "      <td>[really, buggy, and, terrible, to, use, as, of...</td>\n",
       "      <td>[really, buggy, terrible, use, recently]</td>\n",
       "    </tr>\n",
       "    <tr>\n",
       "      <th>4</th>\n",
       "      <td>dear spotify why do i get songs that i didn t ...</td>\n",
       "      <td>NEGATIVE</td>\n",
       "      <td>[dear, spotify, why, do, i, get, songs, that, ...</td>\n",
       "      <td>[dear, spotify, get, songs, put, playlist, shu...</td>\n",
       "      <td>[dear, spotify, get, songs, put, playlist, shu...</td>\n",
       "      <td>[dear, spotify, why, do, i, get, songs, that, ...</td>\n",
       "      <td>[dear, spotify, get, songs, put, playlist, shu...</td>\n",
       "    </tr>\n",
       "  </tbody>\n",
       "</table>\n",
       "</div>"
      ],
      "text/plain": [
       "                                              Review     label  \\\n",
       "0  great music service the audio is high quality ...  POSITIVE   \n",
       "1  please ignore previous negative rating this ap...  POSITIVE   \n",
       "2  this pop up get the best spotify experience on...  NEGATIVE   \n",
       "3    really buggy and terrible to use as of recently  NEGATIVE   \n",
       "4  dear spotify why do i get songs that i didn t ...  NEGATIVE   \n",
       "\n",
       "                                      Tokenized Text  \\\n",
       "0  [great, music, service, the, audio, is, high, ...   \n",
       "1  [please, ignore, previous, negative, rating, t...   \n",
       "2  [this, pop, up, get, the, best, spotify, exper...   \n",
       "3  [really, buggy, and, terrible, to, use, as, of...   \n",
       "4  [dear, spotify, why, do, i, get, songs, that, ...   \n",
       "\n",
       "                              Text Without Stopwords  \\\n",
       "0  [great, music, service, audio, high, quality, ...   \n",
       "1  [please, ignore, previous, negative, rating, a...   \n",
       "2  [pop, get, best, spotify, experience, android,...   \n",
       "3           [really, buggy, terrible, use, recently]   \n",
       "4  [dear, spotify, get, songs, put, playlist, shu...   \n",
       "\n",
       "                                     Text Lemmatized  \\\n",
       "0  [great, music, service, audio, high, quality, ...   \n",
       "1  [please, ignore, previous, negative, rat, app,...   \n",
       "2  [pop, get, best, spotify, experience, android,...   \n",
       "3           [really, buggy, terrible, use, recently]   \n",
       "4  [dear, spotify, get, songs, put, playlist, shu...   \n",
       "\n",
       "                                    Review Tokenized  \\\n",
       "0  [great, music, service, the, audio, is, high, ...   \n",
       "1  [please, ignore, previous, negative, rating, t...   \n",
       "2  [this, pop, up, get, the, best, spotify, exper...   \n",
       "3  [really, buggy, and, terrible, to, use, as, of...   \n",
       "4  [dear, spotify, why, do, i, get, songs, that, ...   \n",
       "\n",
       "                            Review Without Stopwords  \n",
       "0  [great, music, service, audio, high, quality, ...  \n",
       "1  [please, ignore, previous, negative, rating, a...  \n",
       "2  [pop, get, best, spotify, experience, android,...  \n",
       "3           [really, buggy, terrible, use, recently]  \n",
       "4  [dear, spotify, get, songs, put, playlist, shu...  "
      ]
     },
     "execution_count": 55,
     "metadata": {},
     "output_type": "execute_result"
    }
   ],
   "source": [
    "stop_words = stopwords.words('english')\n",
    "reviews_no_stopwords = []\n",
    "for review in data['Review Tokenized']:\n",
    "    review_no_stopwords = [word for word in review if word not in stop_words]\n",
    "    reviews_no_stopwords.append(review_no_stopwords)\n",
    "data['Review Without Stopwords'] = reviews_no_stopwords\n",
    "data.head()"
   ]
  },
  {
   "cell_type": "code",
   "execution_count": 56,
   "metadata": {},
   "outputs": [
    {
     "data": {
      "text/html": [
       "<div>\n",
       "<style scoped>\n",
       "    .dataframe tbody tr th:only-of-type {\n",
       "        vertical-align: middle;\n",
       "    }\n",
       "\n",
       "    .dataframe tbody tr th {\n",
       "        vertical-align: top;\n",
       "    }\n",
       "\n",
       "    .dataframe thead th {\n",
       "        text-align: right;\n",
       "    }\n",
       "</style>\n",
       "<table border=\"1\" class=\"dataframe\">\n",
       "  <thead>\n",
       "    <tr style=\"text-align: right;\">\n",
       "      <th></th>\n",
       "      <th>Review</th>\n",
       "      <th>label</th>\n",
       "      <th>Tokenized Text</th>\n",
       "      <th>Text Without Stopwords</th>\n",
       "      <th>Text Lemmatized</th>\n",
       "      <th>Review Tokenized</th>\n",
       "      <th>Review Without Stopwords</th>\n",
       "      <th>Review Lemmatized</th>\n",
       "    </tr>\n",
       "  </thead>\n",
       "  <tbody>\n",
       "    <tr>\n",
       "      <th>0</th>\n",
       "      <td>great music service the audio is high quality ...</td>\n",
       "      <td>POSITIVE</td>\n",
       "      <td>[great, music, service, the, audio, is, high, ...</td>\n",
       "      <td>[great, music, service, audio, high, quality, ...</td>\n",
       "      <td>[great, music, service, audio, high, quality, ...</td>\n",
       "      <td>[great, music, service, the, audio, is, high, ...</td>\n",
       "      <td>[great, music, service, audio, high, quality, ...</td>\n",
       "      <td>[great, music, service, audio, high, quality, ...</td>\n",
       "    </tr>\n",
       "    <tr>\n",
       "      <th>1</th>\n",
       "      <td>please ignore previous negative rating this ap...</td>\n",
       "      <td>POSITIVE</td>\n",
       "      <td>[please, ignore, previous, negative, rating, t...</td>\n",
       "      <td>[please, ignore, previous, negative, rating, a...</td>\n",
       "      <td>[please, ignore, previous, negative, rat, app,...</td>\n",
       "      <td>[please, ignore, previous, negative, rating, t...</td>\n",
       "      <td>[please, ignore, previous, negative, rating, a...</td>\n",
       "      <td>[please, ignore, previous, negative, rat, app,...</td>\n",
       "    </tr>\n",
       "    <tr>\n",
       "      <th>2</th>\n",
       "      <td>this pop up get the best spotify experience on...</td>\n",
       "      <td>NEGATIVE</td>\n",
       "      <td>[this, pop, up, get, the, best, spotify, exper...</td>\n",
       "      <td>[pop, get, best, spotify, experience, android,...</td>\n",
       "      <td>[pop, get, best, spotify, experience, android,...</td>\n",
       "      <td>[this, pop, up, get, the, best, spotify, exper...</td>\n",
       "      <td>[pop, get, best, spotify, experience, android,...</td>\n",
       "      <td>[pop, get, best, spotify, experience, android,...</td>\n",
       "    </tr>\n",
       "    <tr>\n",
       "      <th>3</th>\n",
       "      <td>really buggy and terrible to use as of recently</td>\n",
       "      <td>NEGATIVE</td>\n",
       "      <td>[really, buggy, and, terrible, to, use, as, of...</td>\n",
       "      <td>[really, buggy, terrible, use, recently]</td>\n",
       "      <td>[really, buggy, terrible, use, recently]</td>\n",
       "      <td>[really, buggy, and, terrible, to, use, as, of...</td>\n",
       "      <td>[really, buggy, terrible, use, recently]</td>\n",
       "      <td>[really, buggy, terrible, use, recently]</td>\n",
       "    </tr>\n",
       "    <tr>\n",
       "      <th>4</th>\n",
       "      <td>dear spotify why do i get songs that i didn t ...</td>\n",
       "      <td>NEGATIVE</td>\n",
       "      <td>[dear, spotify, why, do, i, get, songs, that, ...</td>\n",
       "      <td>[dear, spotify, get, songs, put, playlist, shu...</td>\n",
       "      <td>[dear, spotify, get, songs, put, playlist, shu...</td>\n",
       "      <td>[dear, spotify, why, do, i, get, songs, that, ...</td>\n",
       "      <td>[dear, spotify, get, songs, put, playlist, shu...</td>\n",
       "      <td>[dear, spotify, get, songs, put, playlist, shu...</td>\n",
       "    </tr>\n",
       "  </tbody>\n",
       "</table>\n",
       "</div>"
      ],
      "text/plain": [
       "                                              Review     label  \\\n",
       "0  great music service the audio is high quality ...  POSITIVE   \n",
       "1  please ignore previous negative rating this ap...  POSITIVE   \n",
       "2  this pop up get the best spotify experience on...  NEGATIVE   \n",
       "3    really buggy and terrible to use as of recently  NEGATIVE   \n",
       "4  dear spotify why do i get songs that i didn t ...  NEGATIVE   \n",
       "\n",
       "                                      Tokenized Text  \\\n",
       "0  [great, music, service, the, audio, is, high, ...   \n",
       "1  [please, ignore, previous, negative, rating, t...   \n",
       "2  [this, pop, up, get, the, best, spotify, exper...   \n",
       "3  [really, buggy, and, terrible, to, use, as, of...   \n",
       "4  [dear, spotify, why, do, i, get, songs, that, ...   \n",
       "\n",
       "                              Text Without Stopwords  \\\n",
       "0  [great, music, service, audio, high, quality, ...   \n",
       "1  [please, ignore, previous, negative, rating, a...   \n",
       "2  [pop, get, best, spotify, experience, android,...   \n",
       "3           [really, buggy, terrible, use, recently]   \n",
       "4  [dear, spotify, get, songs, put, playlist, shu...   \n",
       "\n",
       "                                     Text Lemmatized  \\\n",
       "0  [great, music, service, audio, high, quality, ...   \n",
       "1  [please, ignore, previous, negative, rat, app,...   \n",
       "2  [pop, get, best, spotify, experience, android,...   \n",
       "3           [really, buggy, terrible, use, recently]   \n",
       "4  [dear, spotify, get, songs, put, playlist, shu...   \n",
       "\n",
       "                                    Review Tokenized  \\\n",
       "0  [great, music, service, the, audio, is, high, ...   \n",
       "1  [please, ignore, previous, negative, rating, t...   \n",
       "2  [this, pop, up, get, the, best, spotify, exper...   \n",
       "3  [really, buggy, and, terrible, to, use, as, of...   \n",
       "4  [dear, spotify, why, do, i, get, songs, that, ...   \n",
       "\n",
       "                            Review Without Stopwords  \\\n",
       "0  [great, music, service, audio, high, quality, ...   \n",
       "1  [please, ignore, previous, negative, rating, a...   \n",
       "2  [pop, get, best, spotify, experience, android,...   \n",
       "3           [really, buggy, terrible, use, recently]   \n",
       "4  [dear, spotify, get, songs, put, playlist, shu...   \n",
       "\n",
       "                                   Review Lemmatized  \n",
       "0  [great, music, service, audio, high, quality, ...  \n",
       "1  [please, ignore, previous, negative, rat, app,...  \n",
       "2  [pop, get, best, spotify, experience, android,...  \n",
       "3           [really, buggy, terrible, use, recently]  \n",
       "4  [dear, spotify, get, songs, put, playlist, shu...  "
      ]
     },
     "execution_count": 56,
     "metadata": {},
     "output_type": "execute_result"
    }
   ],
   "source": [
    "lemmatizer = WordNetLemmatizer()\n",
    "lemmatized_reviews = []\n",
    "for review in data['Review Without Stopwords']:\n",
    "    lemmatized_review = [lemmatizer.lemmatize(word,pos='v') for word in review]\n",
    "    lemmatized_reviews.append(lemmatized_review)\n",
    "data['Review Lemmatized'] = lemmatized_reviews\n",
    "data.head()"
   ]
  },
  {
   "cell_type": "code",
   "execution_count": 61,
   "metadata": {},
   "outputs": [
    {
     "data": {
      "text/html": [
       "<div>\n",
       "<style scoped>\n",
       "    .dataframe tbody tr th:only-of-type {\n",
       "        vertical-align: middle;\n",
       "    }\n",
       "\n",
       "    .dataframe tbody tr th {\n",
       "        vertical-align: top;\n",
       "    }\n",
       "\n",
       "    .dataframe thead th {\n",
       "        text-align: right;\n",
       "    }\n",
       "</style>\n",
       "<table border=\"1\" class=\"dataframe\">\n",
       "  <thead>\n",
       "    <tr style=\"text-align: right;\">\n",
       "      <th></th>\n",
       "      <th>Review</th>\n",
       "      <th>label</th>\n",
       "      <th>Tokenized Text</th>\n",
       "      <th>Text Without Stopwords</th>\n",
       "      <th>Text Lemmatized</th>\n",
       "      <th>Review Tokenized</th>\n",
       "      <th>Review Without Stopwords</th>\n",
       "      <th>Review Lemmatized</th>\n",
       "      <th>Processed Review</th>\n",
       "      <th>Processed Reviews</th>\n",
       "    </tr>\n",
       "  </thead>\n",
       "  <tbody>\n",
       "    <tr>\n",
       "      <th>0</th>\n",
       "      <td>great music service the audio is high quality ...</td>\n",
       "      <td>POSITIVE</td>\n",
       "      <td>[great, music, service, the, audio, is, high, ...</td>\n",
       "      <td>[great, music, service, audio, high, quality, ...</td>\n",
       "      <td>[great, music, service, audio, high, quality, ...</td>\n",
       "      <td>[great, music, service, the, audio, is, high, ...</td>\n",
       "      <td>[great, music, service, audio, high, quality, ...</td>\n",
       "      <td>[great, music, service, audio, high, quality, ...</td>\n",
       "      <td>great music service audio high quality app eas...</td>\n",
       "      <td>great music service audio high quality app eas...</td>\n",
       "    </tr>\n",
       "    <tr>\n",
       "      <th>1</th>\n",
       "      <td>please ignore previous negative rating this ap...</td>\n",
       "      <td>POSITIVE</td>\n",
       "      <td>[please, ignore, previous, negative, rating, t...</td>\n",
       "      <td>[please, ignore, previous, negative, rating, a...</td>\n",
       "      <td>[please, ignore, previous, negative, rat, app,...</td>\n",
       "      <td>[please, ignore, previous, negative, rating, t...</td>\n",
       "      <td>[please, ignore, previous, negative, rating, a...</td>\n",
       "      <td>[please, ignore, previous, negative, rat, app,...</td>\n",
       "      <td>please ignore previous negative rat app super ...</td>\n",
       "      <td>please ignore previous negative rat app super ...</td>\n",
       "    </tr>\n",
       "    <tr>\n",
       "      <th>2</th>\n",
       "      <td>this pop up get the best spotify experience on...</td>\n",
       "      <td>NEGATIVE</td>\n",
       "      <td>[this, pop, up, get, the, best, spotify, exper...</td>\n",
       "      <td>[pop, get, best, spotify, experience, android,...</td>\n",
       "      <td>[pop, get, best, spotify, experience, android,...</td>\n",
       "      <td>[this, pop, up, get, the, best, spotify, exper...</td>\n",
       "      <td>[pop, get, best, spotify, experience, android,...</td>\n",
       "      <td>[pop, get, best, spotify, experience, android,...</td>\n",
       "      <td>pop get best spotify experience android annoy ...</td>\n",
       "      <td>pop get best spotify experience android annoy ...</td>\n",
       "    </tr>\n",
       "    <tr>\n",
       "      <th>3</th>\n",
       "      <td>really buggy and terrible to use as of recently</td>\n",
       "      <td>NEGATIVE</td>\n",
       "      <td>[really, buggy, and, terrible, to, use, as, of...</td>\n",
       "      <td>[really, buggy, terrible, use, recently]</td>\n",
       "      <td>[really, buggy, terrible, use, recently]</td>\n",
       "      <td>[really, buggy, and, terrible, to, use, as, of...</td>\n",
       "      <td>[really, buggy, terrible, use, recently]</td>\n",
       "      <td>[really, buggy, terrible, use, recently]</td>\n",
       "      <td>really buggy terrible use recently</td>\n",
       "      <td>really buggy terrible use recently</td>\n",
       "    </tr>\n",
       "    <tr>\n",
       "      <th>4</th>\n",
       "      <td>dear spotify why do i get songs that i didn t ...</td>\n",
       "      <td>NEGATIVE</td>\n",
       "      <td>[dear, spotify, why, do, i, get, songs, that, ...</td>\n",
       "      <td>[dear, spotify, get, songs, put, playlist, shu...</td>\n",
       "      <td>[dear, spotify, get, songs, put, playlist, shu...</td>\n",
       "      <td>[dear, spotify, why, do, i, get, songs, that, ...</td>\n",
       "      <td>[dear, spotify, get, songs, put, playlist, shu...</td>\n",
       "      <td>[dear, spotify, get, songs, put, playlist, shu...</td>\n",
       "      <td>dear spotify get songs put playlist shuffle play</td>\n",
       "      <td>dear spotify get songs put playlist shuffle play</td>\n",
       "    </tr>\n",
       "  </tbody>\n",
       "</table>\n",
       "</div>"
      ],
      "text/plain": [
       "                                              Review     label  \\\n",
       "0  great music service the audio is high quality ...  POSITIVE   \n",
       "1  please ignore previous negative rating this ap...  POSITIVE   \n",
       "2  this pop up get the best spotify experience on...  NEGATIVE   \n",
       "3    really buggy and terrible to use as of recently  NEGATIVE   \n",
       "4  dear spotify why do i get songs that i didn t ...  NEGATIVE   \n",
       "\n",
       "                                      Tokenized Text  \\\n",
       "0  [great, music, service, the, audio, is, high, ...   \n",
       "1  [please, ignore, previous, negative, rating, t...   \n",
       "2  [this, pop, up, get, the, best, spotify, exper...   \n",
       "3  [really, buggy, and, terrible, to, use, as, of...   \n",
       "4  [dear, spotify, why, do, i, get, songs, that, ...   \n",
       "\n",
       "                              Text Without Stopwords  \\\n",
       "0  [great, music, service, audio, high, quality, ...   \n",
       "1  [please, ignore, previous, negative, rating, a...   \n",
       "2  [pop, get, best, spotify, experience, android,...   \n",
       "3           [really, buggy, terrible, use, recently]   \n",
       "4  [dear, spotify, get, songs, put, playlist, shu...   \n",
       "\n",
       "                                     Text Lemmatized  \\\n",
       "0  [great, music, service, audio, high, quality, ...   \n",
       "1  [please, ignore, previous, negative, rat, app,...   \n",
       "2  [pop, get, best, spotify, experience, android,...   \n",
       "3           [really, buggy, terrible, use, recently]   \n",
       "4  [dear, spotify, get, songs, put, playlist, shu...   \n",
       "\n",
       "                                    Review Tokenized  \\\n",
       "0  [great, music, service, the, audio, is, high, ...   \n",
       "1  [please, ignore, previous, negative, rating, t...   \n",
       "2  [this, pop, up, get, the, best, spotify, exper...   \n",
       "3  [really, buggy, and, terrible, to, use, as, of...   \n",
       "4  [dear, spotify, why, do, i, get, songs, that, ...   \n",
       "\n",
       "                            Review Without Stopwords  \\\n",
       "0  [great, music, service, audio, high, quality, ...   \n",
       "1  [please, ignore, previous, negative, rating, a...   \n",
       "2  [pop, get, best, spotify, experience, android,...   \n",
       "3           [really, buggy, terrible, use, recently]   \n",
       "4  [dear, spotify, get, songs, put, playlist, shu...   \n",
       "\n",
       "                                   Review Lemmatized  \\\n",
       "0  [great, music, service, audio, high, quality, ...   \n",
       "1  [please, ignore, previous, negative, rat, app,...   \n",
       "2  [pop, get, best, spotify, experience, android,...   \n",
       "3           [really, buggy, terrible, use, recently]   \n",
       "4  [dear, spotify, get, songs, put, playlist, shu...   \n",
       "\n",
       "                                    Processed Review  \\\n",
       "0  great music service audio high quality app eas...   \n",
       "1  please ignore previous negative rat app super ...   \n",
       "2  pop get best spotify experience android annoy ...   \n",
       "3                 really buggy terrible use recently   \n",
       "4   dear spotify get songs put playlist shuffle play   \n",
       "\n",
       "                                   Processed Reviews  \n",
       "0  great music service audio high quality app eas...  \n",
       "1  please ignore previous negative rat app super ...  \n",
       "2  pop get best spotify experience android annoy ...  \n",
       "3                 really buggy terrible use recently  \n",
       "4   dear spotify get songs put playlist shuffle play  "
      ]
     },
     "execution_count": 61,
     "metadata": {},
     "output_type": "execute_result"
    }
   ],
   "source": [
    "processed_reviews = []\n",
    "for review in data['Review Lemmatized']:\n",
    "    review = ' '.join(review)\n",
    "    processed_reviews.append(review)\n",
    "data['Processed Reviews'] = processed_reviews\n",
    "data.head()"
   ]
  },
  {
   "cell_type": "code",
   "execution_count": 62,
   "metadata": {},
   "outputs": [
    {
     "data": {
      "text/plain": [
       "17454"
      ]
     },
     "execution_count": 62,
     "metadata": {},
     "output_type": "execute_result"
    }
   ],
   "source": [
    "tokenizer = Tokenizer()\n",
    "tokenizer.fit_on_texts(data['Processed Reviews'])\n",
    "vocab_size = len(tokenizer.word_index) + 1\n",
    "vocab_size"
   ]
  },
  {
   "cell_type": "code",
   "execution_count": 63,
   "metadata": {},
   "outputs": [],
   "source": [
    "input_sequences = tokenizer.texts_to_sequences(data['Review'])\n",
    "input_sequences = np.array(pad_sequences(input_sequences, padding='pre'))"
   ]
  },
  {
   "cell_type": "code",
   "execution_count": 64,
   "metadata": {},
   "outputs": [
    {
     "data": {
      "text/plain": [
       "0        1\n",
       "1        1\n",
       "2        0\n",
       "3        0\n",
       "4        0\n",
       "        ..\n",
       "52697    1\n",
       "52698    1\n",
       "52699    1\n",
       "52700    1\n",
       "52701    1\n",
       "Name: label, Length: 52686, dtype: int64"
      ]
     },
     "execution_count": 64,
     "metadata": {},
     "output_type": "execute_result"
    }
   ],
   "source": [
    "y = data['label'].map({'POSITIVE':1, 'NEGATIVE':0})\n",
    "y"
   ]
  },
  {
   "cell_type": "code",
   "execution_count": 65,
   "metadata": {},
   "outputs": [],
   "source": [
    "x_train, x_test, y_train, y_test = train_test_split(input_sequences, y, test_size=0.2)\n",
    "x_train, x_val, y_train, y_val = train_test_split(x_train, y_train, test_size=0.25)"
   ]
  },
  {
   "cell_type": "code",
   "execution_count": 112,
   "metadata": {},
   "outputs": [
    {
     "data": {
      "text/plain": [
       "(31611, 131)"
      ]
     },
     "execution_count": 112,
     "metadata": {},
     "output_type": "execute_result"
    }
   ],
   "source": [
    "x_train.shape"
   ]
  },
  {
   "cell_type": "code",
   "execution_count": 119,
   "metadata": {},
   "outputs": [
    {
     "data": {
      "text/html": [
       "<pre style=\"white-space:pre;overflow-x:auto;line-height:normal;font-family:Menlo,'DejaVu Sans Mono',consolas,'Courier New',monospace\"><span style=\"font-weight: bold\">Model: \"sequential_17\"</span>\n",
       "</pre>\n"
      ],
      "text/plain": [
       "\u001b[1mModel: \"sequential_17\"\u001b[0m\n"
      ]
     },
     "metadata": {},
     "output_type": "display_data"
    },
    {
     "data": {
      "text/html": [
       "<pre style=\"white-space:pre;overflow-x:auto;line-height:normal;font-family:Menlo,'DejaVu Sans Mono',consolas,'Courier New',monospace\">┏━━━━━━━━━━━━━━━━━━━━━━━━━━━━━━━━━┳━━━━━━━━━━━━━━━━━━━━━━━━┳━━━━━━━━━━━━━━━┓\n",
       "┃<span style=\"font-weight: bold\"> Layer (type)                    </span>┃<span style=\"font-weight: bold\"> Output Shape           </span>┃<span style=\"font-weight: bold\">       Param # </span>┃\n",
       "┡━━━━━━━━━━━━━━━━━━━━━━━━━━━━━━━━━╇━━━━━━━━━━━━━━━━━━━━━━━━╇━━━━━━━━━━━━━━━┩\n",
       "│ embedding_18 (<span style=\"color: #0087ff; text-decoration-color: #0087ff\">Embedding</span>)        │ ?                      │   <span style=\"color: #00af00; text-decoration-color: #00af00\">0</span> (unbuilt) │\n",
       "├─────────────────────────────────┼────────────────────────┼───────────────┤\n",
       "│ bidirectional_61                │ ?                      │   <span style=\"color: #00af00; text-decoration-color: #00af00\">0</span> (unbuilt) │\n",
       "│ (<span style=\"color: #0087ff; text-decoration-color: #0087ff\">Bidirectional</span>)                 │                        │               │\n",
       "├─────────────────────────────────┼────────────────────────┼───────────────┤\n",
       "│ dropout_25 (<span style=\"color: #0087ff; text-decoration-color: #0087ff\">Dropout</span>)            │ ?                      │             <span style=\"color: #00af00; text-decoration-color: #00af00\">0</span> │\n",
       "├─────────────────────────────────┼────────────────────────┼───────────────┤\n",
       "│ bidirectional_62                │ ?                      │   <span style=\"color: #00af00; text-decoration-color: #00af00\">0</span> (unbuilt) │\n",
       "│ (<span style=\"color: #0087ff; text-decoration-color: #0087ff\">Bidirectional</span>)                 │                        │               │\n",
       "├─────────────────────────────────┼────────────────────────┼───────────────┤\n",
       "│ dense_17 (<span style=\"color: #0087ff; text-decoration-color: #0087ff\">Dense</span>)                │ ?                      │   <span style=\"color: #00af00; text-decoration-color: #00af00\">0</span> (unbuilt) │\n",
       "└─────────────────────────────────┴────────────────────────┴───────────────┘\n",
       "</pre>\n"
      ],
      "text/plain": [
       "┏━━━━━━━━━━━━━━━━━━━━━━━━━━━━━━━━━┳━━━━━━━━━━━━━━━━━━━━━━━━┳━━━━━━━━━━━━━━━┓\n",
       "┃\u001b[1m \u001b[0m\u001b[1mLayer (type)                   \u001b[0m\u001b[1m \u001b[0m┃\u001b[1m \u001b[0m\u001b[1mOutput Shape          \u001b[0m\u001b[1m \u001b[0m┃\u001b[1m \u001b[0m\u001b[1m      Param #\u001b[0m\u001b[1m \u001b[0m┃\n",
       "┡━━━━━━━━━━━━━━━━━━━━━━━━━━━━━━━━━╇━━━━━━━━━━━━━━━━━━━━━━━━╇━━━━━━━━━━━━━━━┩\n",
       "│ embedding_18 (\u001b[38;5;33mEmbedding\u001b[0m)        │ ?                      │   \u001b[38;5;34m0\u001b[0m (unbuilt) │\n",
       "├─────────────────────────────────┼────────────────────────┼───────────────┤\n",
       "│ bidirectional_61                │ ?                      │   \u001b[38;5;34m0\u001b[0m (unbuilt) │\n",
       "│ (\u001b[38;5;33mBidirectional\u001b[0m)                 │                        │               │\n",
       "├─────────────────────────────────┼────────────────────────┼───────────────┤\n",
       "│ dropout_25 (\u001b[38;5;33mDropout\u001b[0m)            │ ?                      │             \u001b[38;5;34m0\u001b[0m │\n",
       "├─────────────────────────────────┼────────────────────────┼───────────────┤\n",
       "│ bidirectional_62                │ ?                      │   \u001b[38;5;34m0\u001b[0m (unbuilt) │\n",
       "│ (\u001b[38;5;33mBidirectional\u001b[0m)                 │                        │               │\n",
       "├─────────────────────────────────┼────────────────────────┼───────────────┤\n",
       "│ dense_17 (\u001b[38;5;33mDense\u001b[0m)                │ ?                      │   \u001b[38;5;34m0\u001b[0m (unbuilt) │\n",
       "└─────────────────────────────────┴────────────────────────┴───────────────┘\n"
      ]
     },
     "metadata": {},
     "output_type": "display_data"
    },
    {
     "data": {
      "text/html": [
       "<pre style=\"white-space:pre;overflow-x:auto;line-height:normal;font-family:Menlo,'DejaVu Sans Mono',consolas,'Courier New',monospace\"><span style=\"font-weight: bold\"> Total params: </span><span style=\"color: #00af00; text-decoration-color: #00af00\">0</span> (0.00 B)\n",
       "</pre>\n"
      ],
      "text/plain": [
       "\u001b[1m Total params: \u001b[0m\u001b[38;5;34m0\u001b[0m (0.00 B)\n"
      ]
     },
     "metadata": {},
     "output_type": "display_data"
    },
    {
     "data": {
      "text/html": [
       "<pre style=\"white-space:pre;overflow-x:auto;line-height:normal;font-family:Menlo,'DejaVu Sans Mono',consolas,'Courier New',monospace\"><span style=\"font-weight: bold\"> Trainable params: </span><span style=\"color: #00af00; text-decoration-color: #00af00\">0</span> (0.00 B)\n",
       "</pre>\n"
      ],
      "text/plain": [
       "\u001b[1m Trainable params: \u001b[0m\u001b[38;5;34m0\u001b[0m (0.00 B)\n"
      ]
     },
     "metadata": {},
     "output_type": "display_data"
    },
    {
     "data": {
      "text/html": [
       "<pre style=\"white-space:pre;overflow-x:auto;line-height:normal;font-family:Menlo,'DejaVu Sans Mono',consolas,'Courier New',monospace\"><span style=\"font-weight: bold\"> Non-trainable params: </span><span style=\"color: #00af00; text-decoration-color: #00af00\">0</span> (0.00 B)\n",
       "</pre>\n"
      ],
      "text/plain": [
       "\u001b[1m Non-trainable params: \u001b[0m\u001b[38;5;34m0\u001b[0m (0.00 B)\n"
      ]
     },
     "metadata": {},
     "output_type": "display_data"
    }
   ],
   "source": [
    "model = Sequential([\n",
    "    Embedding(vocab_size,131),\n",
    "    Bidirectional(LSTM(131, return_sequences=True)),\n",
    "    Dropout(0.2),\n",
    "    Bidirectional(LSTM(64)),\n",
    "    Dense(1, activation='sigmoid')\n",
    "])\n",
    "model.compile(optimizer='adam', loss='binary_crossentropy', metrics=['accuracy'])\n",
    "model.summary()"
   ]
  },
  {
   "cell_type": "code",
   "execution_count": 120,
   "metadata": {},
   "outputs": [
    {
     "name": "stdout",
     "output_type": "stream",
     "text": [
      "Epoch 1/50\n",
      "\u001b[1m988/988\u001b[0m \u001b[32m━━━━━━━━━━━━━━━━━━━━\u001b[0m\u001b[37m\u001b[0m \u001b[1m220s\u001b[0m 220ms/step - accuracy: 0.8120 - loss: 0.4042 - val_accuracy: 0.8708 - val_loss: 0.3097\n",
      "Epoch 2/50\n",
      "\u001b[1m988/988\u001b[0m \u001b[32m━━━━━━━━━━━━━━━━━━━━\u001b[0m\u001b[37m\u001b[0m \u001b[1m221s\u001b[0m 224ms/step - accuracy: 0.8901 - loss: 0.2637 - val_accuracy: 0.8660 - val_loss: 0.3228\n",
      "Epoch 3/50\n",
      "\u001b[1m988/988\u001b[0m \u001b[32m━━━━━━━━━━━━━━━━━━━━\u001b[0m\u001b[37m\u001b[0m \u001b[1m221s\u001b[0m 224ms/step - accuracy: 0.9109 - loss: 0.2255 - val_accuracy: 0.8634 - val_loss: 0.3404\n",
      "Epoch 4/50\n",
      "\u001b[1m988/988\u001b[0m \u001b[32m━━━━━━━━━━━━━━━━━━━━\u001b[0m\u001b[37m\u001b[0m \u001b[1m223s\u001b[0m 225ms/step - accuracy: 0.9207 - loss: 0.1897 - val_accuracy: 0.8613 - val_loss: 0.3548\n",
      "Epoch 5/50\n",
      "\u001b[1m988/988\u001b[0m \u001b[32m━━━━━━━━━━━━━━━━━━━━\u001b[0m\u001b[37m\u001b[0m \u001b[1m222s\u001b[0m 225ms/step - accuracy: 0.9325 - loss: 0.1656 - val_accuracy: 0.8573 - val_loss: 0.3988\n",
      "Epoch 6/50\n",
      "\u001b[1m988/988\u001b[0m \u001b[32m━━━━━━━━━━━━━━━━━━━━\u001b[0m\u001b[37m\u001b[0m \u001b[1m218s\u001b[0m 220ms/step - accuracy: 0.9385 - loss: 0.1442 - val_accuracy: 0.8545 - val_loss: 0.4207\n",
      "Epoch 6: early stopping\n",
      "Restoring model weights from the end of the best epoch: 1.\n"
     ]
    }
   ],
   "source": [
    "early_stopping = EarlyStopping(monitor='val_accuracy',mode='max',patience=5,verbose=1, restore_best_weights=True)\n",
    "history = model.fit(x_train, y_train, epochs=50, validation_data=(x_val,y_val), verbose=1, callbacks=[early_stopping])"
   ]
  },
  {
   "cell_type": "code",
   "execution_count": 121,
   "metadata": {},
   "outputs": [
    {
     "name": "stdout",
     "output_type": "stream",
     "text": [
      "\u001b[1m330/330\u001b[0m \u001b[32m━━━━━━━━━━━━━━━━━━━━\u001b[0m\u001b[37m\u001b[0m \u001b[1m16s\u001b[0m 49ms/step\n",
      "Test Accuracy: 0.8673372556462327\n"
     ]
    }
   ],
   "source": [
    "pred = model.predict(x_test)\n",
    "y_pred = [(1 if p>=0.5 else 0) for p in pred]\n",
    "y_test = list(y_test)\n",
    "matching = [(1 if y_pred[i]==y_test[i] else 0) for i in range(len(y_test))]\n",
    "test_accuracy = np.sum(matching)/len(matching)\n",
    "print('Test Accuracy:',test_accuracy)"
   ]
  },
  {
   "cell_type": "code",
   "execution_count": 129,
   "metadata": {},
   "outputs": [],
   "source": [
    "pred_label = [('POSITIVE' if p==1 else 'NEGATIVE') for p in y_pred]\n",
    "submission = pd.DataFrame({'label':pred_label})\n",
    "submission.to_csv('submission.csv',index_label='id')"
   ]
  }
 ],
 "metadata": {
  "kernelspec": {
   "display_name": ".venv",
   "language": "python",
   "name": "python3"
  },
  "language_info": {
   "codemirror_mode": {
    "name": "ipython",
    "version": 3
   },
   "file_extension": ".py",
   "mimetype": "text/x-python",
   "name": "python",
   "nbconvert_exporter": "python",
   "pygments_lexer": "ipython3",
   "version": "3.12.0"
  }
 },
 "nbformat": 4,
 "nbformat_minor": 2
}
