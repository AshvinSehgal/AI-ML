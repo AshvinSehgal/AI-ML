{
  "cells": [
    {
      "cell_type": "code",
      "execution_count": 1,
      "metadata": {
        "id": "4kbHL-tQ5lTs"
      },
      "outputs": [],
      "source": [
        "import numpy as np\n",
        "import pandas as pd\n",
        "import re\n",
        "import matplotlib.pyplot as plt\n",
        "import nltk\n",
        "from nltk.corpus import stopwords\n",
        "from nltk.tokenize import word_tokenize\n",
        "from nltk.stem import WordNetLemmatizer\n",
        "import tensorflow as tf\n",
        "from tensorflow.keras.preprocessing.text import Tokenizer\n",
        "from tensorflow.keras.preprocessing.sequence import pad_sequences\n",
        "from tensorflow.keras.callbacks import EarlyStopping, ReduceLROnPlateau\n",
        "from tensorflow.keras.models import Sequential, Model\n",
        "from tensorflow.keras.layers import *\n",
        "from sklearn.model_selection import train_test_split"
      ]
    },
    {
      "cell_type": "code",
      "execution_count": 2,
      "metadata": {
        "colab": {
          "base_uri": "https://localhost:8080/"
        },
        "id": "8MiTeKxO5lTu",
        "outputId": "5946d5f7-cd15-457b-d988-0979f437253c"
      },
      "outputs": [
        {
          "name": "stdout",
          "output_type": "stream",
          "text": [
            "                                              Review     label\n",
            "0  Great music service, the audio is high quality...  POSITIVE\n",
            "1  Please ignore previous negative rating. This a...  POSITIVE\n",
            "2  This pop-up \"Get the best Spotify experience o...  NEGATIVE\n",
            "3    Really buggy and terrible to use as of recently  NEGATIVE\n",
            "4  Dear Spotify why do I get songs that I didn't ...  NEGATIVE\n",
            "(52702, 2)\n"
          ]
        }
      ],
      "source": [
        "data = pd.read_csv('DATASET.csv')\n",
        "print(data.head())\n",
        "print(data.shape)"
      ]
    },
    {
      "cell_type": "code",
      "execution_count": 3,
      "metadata": {
        "colab": {
          "base_uri": "https://localhost:8080/",
          "height": 147
        },
        "id": "gDS5SHtd5lTv",
        "outputId": "91e7366c-336e-4ec1-cabd-bc1045073aa2"
      },
      "outputs": [
        {
          "data": {
            "text/plain": [
              "Review    16\n",
              "label      0\n",
              "dtype: int64"
            ]
          },
          "execution_count": 3,
          "metadata": {},
          "output_type": "execute_result"
        }
      ],
      "source": [
        "data.isna().sum()"
      ]
    },
    {
      "cell_type": "code",
      "execution_count": 4,
      "metadata": {
        "colab": {
          "base_uri": "https://localhost:8080/"
        },
        "id": "hzS9VDYX5lTv",
        "outputId": "b095cfc6-56e2-490b-ffbb-c4252313127a"
      },
      "outputs": [
        {
          "data": {
            "text/plain": [
              "(52686, 2)"
            ]
          },
          "execution_count": 4,
          "metadata": {},
          "output_type": "execute_result"
        }
      ],
      "source": [
        "data = data.dropna()\n",
        "data.shape"
      ]
    },
    {
      "cell_type": "code",
      "execution_count": 5,
      "metadata": {
        "id": "ba6T8KZL5lTv"
      },
      "outputs": [],
      "source": [
        "data['Review'] = data['Review'].astype(str).str.replace(r'Ã[\\x80-\\xBF]+|[^a-zA-Z\\s]|\\s+', ' ', regex=True).str.strip().str.lower()"
      ]
    },
    {
      "cell_type": "code",
      "execution_count": 6,
      "metadata": {
        "colab": {
          "base_uri": "https://localhost:8080/",
          "height": 206
        },
        "id": "wtCGDtlD5lTw",
        "outputId": "69b1c35b-4558-459c-d76a-7bb2a341a9e0"
      },
      "outputs": [
        {
          "data": {
            "text/html": [
              "<div>\n",
              "<style scoped>\n",
              "    .dataframe tbody tr th:only-of-type {\n",
              "        vertical-align: middle;\n",
              "    }\n",
              "\n",
              "    .dataframe tbody tr th {\n",
              "        vertical-align: top;\n",
              "    }\n",
              "\n",
              "    .dataframe thead th {\n",
              "        text-align: right;\n",
              "    }\n",
              "</style>\n",
              "<table border=\"1\" class=\"dataframe\">\n",
              "  <thead>\n",
              "    <tr style=\"text-align: right;\">\n",
              "      <th></th>\n",
              "      <th>Review</th>\n",
              "      <th>label</th>\n",
              "      <th>Review Tokenized</th>\n",
              "    </tr>\n",
              "  </thead>\n",
              "  <tbody>\n",
              "    <tr>\n",
              "      <th>0</th>\n",
              "      <td>great music service  the audio is high quality...</td>\n",
              "      <td>POSITIVE</td>\n",
              "      <td>[great, music, service, the, audio, is, high, ...</td>\n",
              "    </tr>\n",
              "    <tr>\n",
              "      <th>1</th>\n",
              "      <td>please ignore previous negative rating  this a...</td>\n",
              "      <td>POSITIVE</td>\n",
              "      <td>[please, ignore, previous, negative, rating, t...</td>\n",
              "    </tr>\n",
              "    <tr>\n",
              "      <th>2</th>\n",
              "      <td>this pop up  get the best spotify experience o...</td>\n",
              "      <td>NEGATIVE</td>\n",
              "      <td>[this, pop, up, get, the, best, spotify, exper...</td>\n",
              "    </tr>\n",
              "    <tr>\n",
              "      <th>3</th>\n",
              "      <td>really buggy and terrible to use as of recently</td>\n",
              "      <td>NEGATIVE</td>\n",
              "      <td>[really, buggy, and, terrible, to, use, as, of...</td>\n",
              "    </tr>\n",
              "    <tr>\n",
              "      <th>4</th>\n",
              "      <td>dear spotify why do i get songs that i didn t ...</td>\n",
              "      <td>NEGATIVE</td>\n",
              "      <td>[dear, spotify, why, do, i, get, songs, that, ...</td>\n",
              "    </tr>\n",
              "  </tbody>\n",
              "</table>\n",
              "</div>"
            ],
            "text/plain": [
              "                                              Review     label  \\\n",
              "0  great music service  the audio is high quality...  POSITIVE   \n",
              "1  please ignore previous negative rating  this a...  POSITIVE   \n",
              "2  this pop up  get the best spotify experience o...  NEGATIVE   \n",
              "3    really buggy and terrible to use as of recently  NEGATIVE   \n",
              "4  dear spotify why do i get songs that i didn t ...  NEGATIVE   \n",
              "\n",
              "                                    Review Tokenized  \n",
              "0  [great, music, service, the, audio, is, high, ...  \n",
              "1  [please, ignore, previous, negative, rating, t...  \n",
              "2  [this, pop, up, get, the, best, spotify, exper...  \n",
              "3  [really, buggy, and, terrible, to, use, as, of...  \n",
              "4  [dear, spotify, why, do, i, get, songs, that, ...  "
            ]
          },
          "execution_count": 6,
          "metadata": {},
          "output_type": "execute_result"
        }
      ],
      "source": [
        "tokenized_reviews = []\n",
        "for review in data['Review']:\n",
        "    tokens = word_tokenize(review)\n",
        "    tokenized_reviews.append(tokens)\n",
        "data['Review Tokenized'] = tokenized_reviews\n",
        "data.head()"
      ]
    },
    {
      "cell_type": "code",
      "execution_count": 7,
      "metadata": {
        "colab": {
          "base_uri": "https://localhost:8080/",
          "height": 206
        },
        "id": "O8XRaX0N5lTw",
        "outputId": "4845c4c8-a9f9-4a6b-c8d2-ca69df66ccd5"
      },
      "outputs": [
        {
          "data": {
            "text/html": [
              "<div>\n",
              "<style scoped>\n",
              "    .dataframe tbody tr th:only-of-type {\n",
              "        vertical-align: middle;\n",
              "    }\n",
              "\n",
              "    .dataframe tbody tr th {\n",
              "        vertical-align: top;\n",
              "    }\n",
              "\n",
              "    .dataframe thead th {\n",
              "        text-align: right;\n",
              "    }\n",
              "</style>\n",
              "<table border=\"1\" class=\"dataframe\">\n",
              "  <thead>\n",
              "    <tr style=\"text-align: right;\">\n",
              "      <th></th>\n",
              "      <th>Review</th>\n",
              "      <th>label</th>\n",
              "      <th>Review Tokenized</th>\n",
              "      <th>Review Without Stopwords</th>\n",
              "    </tr>\n",
              "  </thead>\n",
              "  <tbody>\n",
              "    <tr>\n",
              "      <th>0</th>\n",
              "      <td>great music service  the audio is high quality...</td>\n",
              "      <td>POSITIVE</td>\n",
              "      <td>[great, music, service, the, audio, is, high, ...</td>\n",
              "      <td>[great, service, audio, high, quality, easy, u...</td>\n",
              "    </tr>\n",
              "    <tr>\n",
              "      <th>1</th>\n",
              "      <td>please ignore previous negative rating  this a...</td>\n",
              "      <td>POSITIVE</td>\n",
              "      <td>[please, ignore, previous, negative, rating, t...</td>\n",
              "      <td>[please, ignore, previous, negative, rating, s...</td>\n",
              "    </tr>\n",
              "    <tr>\n",
              "      <th>2</th>\n",
              "      <td>this pop up  get the best spotify experience o...</td>\n",
              "      <td>NEGATIVE</td>\n",
              "      <td>[this, pop, up, get, the, best, spotify, exper...</td>\n",
              "      <td>[pop, best, experience, android, annoying, ple...</td>\n",
              "    </tr>\n",
              "    <tr>\n",
              "      <th>3</th>\n",
              "      <td>really buggy and terrible to use as of recently</td>\n",
              "      <td>NEGATIVE</td>\n",
              "      <td>[really, buggy, and, terrible, to, use, as, of...</td>\n",
              "      <td>[really, buggy, terrible, use, recently]</td>\n",
              "    </tr>\n",
              "    <tr>\n",
              "      <th>4</th>\n",
              "      <td>dear spotify why do i get songs that i didn t ...</td>\n",
              "      <td>NEGATIVE</td>\n",
              "      <td>[dear, spotify, why, do, i, get, songs, that, ...</td>\n",
              "      <td>[dear, put, shuffle]</td>\n",
              "    </tr>\n",
              "  </tbody>\n",
              "</table>\n",
              "</div>"
            ],
            "text/plain": [
              "                                              Review     label  \\\n",
              "0  great music service  the audio is high quality...  POSITIVE   \n",
              "1  please ignore previous negative rating  this a...  POSITIVE   \n",
              "2  this pop up  get the best spotify experience o...  NEGATIVE   \n",
              "3    really buggy and terrible to use as of recently  NEGATIVE   \n",
              "4  dear spotify why do i get songs that i didn t ...  NEGATIVE   \n",
              "\n",
              "                                    Review Tokenized  \\\n",
              "0  [great, music, service, the, audio, is, high, ...   \n",
              "1  [please, ignore, previous, negative, rating, t...   \n",
              "2  [this, pop, up, get, the, best, spotify, exper...   \n",
              "3  [really, buggy, and, terrible, to, use, as, of...   \n",
              "4  [dear, spotify, why, do, i, get, songs, that, ...   \n",
              "\n",
              "                            Review Without Stopwords  \n",
              "0  [great, service, audio, high, quality, easy, u...  \n",
              "1  [please, ignore, previous, negative, rating, s...  \n",
              "2  [pop, best, experience, android, annoying, ple...  \n",
              "3           [really, buggy, terrible, use, recently]  \n",
              "4                               [dear, put, shuffle]  "
            ]
          },
          "execution_count": 7,
          "metadata": {},
          "output_type": "execute_result"
        }
      ],
      "source": [
        "stop_words = stopwords.words('english')\n",
        "custom_stopwords = ['app', 'music', 'play', 'spotify', 'song', 'songs', 'listen', 'playing', 'get', 'playlist']\n",
        "reviews_no_stopwords = []\n",
        "for review in data['Review Tokenized']:\n",
        "    review_no_stopwords = [word for word in review if (word not in stop_words) and (word not in custom_stopwords)]\n",
        "    reviews_no_stopwords.append(review_no_stopwords)\n",
        "data['Review Without Stopwords'] = reviews_no_stopwords\n",
        "data.head()"
      ]
    },
    {
      "cell_type": "code",
      "execution_count": 8,
      "metadata": {
        "colab": {
          "base_uri": "https://localhost:8080/",
          "height": 293
        },
        "id": "wqU8GEDB5lTw",
        "outputId": "d1e2f12f-19c8-445f-8079-e02a5d351cd7"
      },
      "outputs": [
        {
          "data": {
            "text/html": [
              "<div>\n",
              "<style scoped>\n",
              "    .dataframe tbody tr th:only-of-type {\n",
              "        vertical-align: middle;\n",
              "    }\n",
              "\n",
              "    .dataframe tbody tr th {\n",
              "        vertical-align: top;\n",
              "    }\n",
              "\n",
              "    .dataframe thead th {\n",
              "        text-align: right;\n",
              "    }\n",
              "</style>\n",
              "<table border=\"1\" class=\"dataframe\">\n",
              "  <thead>\n",
              "    <tr style=\"text-align: right;\">\n",
              "      <th></th>\n",
              "      <th>Review</th>\n",
              "      <th>label</th>\n",
              "      <th>Review Tokenized</th>\n",
              "      <th>Review Without Stopwords</th>\n",
              "      <th>Review Lemmatized</th>\n",
              "    </tr>\n",
              "  </thead>\n",
              "  <tbody>\n",
              "    <tr>\n",
              "      <th>0</th>\n",
              "      <td>great music service  the audio is high quality...</td>\n",
              "      <td>POSITIVE</td>\n",
              "      <td>[great, music, service, the, audio, is, high, ...</td>\n",
              "      <td>[great, service, audio, high, quality, easy, u...</td>\n",
              "      <td>[great, service, audio, high, quality, easy, u...</td>\n",
              "    </tr>\n",
              "    <tr>\n",
              "      <th>1</th>\n",
              "      <td>please ignore previous negative rating  this a...</td>\n",
              "      <td>POSITIVE</td>\n",
              "      <td>[please, ignore, previous, negative, rating, t...</td>\n",
              "      <td>[please, ignore, previous, negative, rating, s...</td>\n",
              "      <td>[please, ignore, previous, negative, rat, supe...</td>\n",
              "    </tr>\n",
              "    <tr>\n",
              "      <th>2</th>\n",
              "      <td>this pop up  get the best spotify experience o...</td>\n",
              "      <td>NEGATIVE</td>\n",
              "      <td>[this, pop, up, get, the, best, spotify, exper...</td>\n",
              "      <td>[pop, best, experience, android, annoying, ple...</td>\n",
              "      <td>[pop, best, experience, android, annoy, please...</td>\n",
              "    </tr>\n",
              "    <tr>\n",
              "      <th>3</th>\n",
              "      <td>really buggy and terrible to use as of recently</td>\n",
              "      <td>NEGATIVE</td>\n",
              "      <td>[really, buggy, and, terrible, to, use, as, of...</td>\n",
              "      <td>[really, buggy, terrible, use, recently]</td>\n",
              "      <td>[really, buggy, terrible, use, recently]</td>\n",
              "    </tr>\n",
              "    <tr>\n",
              "      <th>4</th>\n",
              "      <td>dear spotify why do i get songs that i didn t ...</td>\n",
              "      <td>NEGATIVE</td>\n",
              "      <td>[dear, spotify, why, do, i, get, songs, that, ...</td>\n",
              "      <td>[dear, put, shuffle]</td>\n",
              "      <td>[dear, put, shuffle]</td>\n",
              "    </tr>\n",
              "  </tbody>\n",
              "</table>\n",
              "</div>"
            ],
            "text/plain": [
              "                                              Review     label  \\\n",
              "0  great music service  the audio is high quality...  POSITIVE   \n",
              "1  please ignore previous negative rating  this a...  POSITIVE   \n",
              "2  this pop up  get the best spotify experience o...  NEGATIVE   \n",
              "3    really buggy and terrible to use as of recently  NEGATIVE   \n",
              "4  dear spotify why do i get songs that i didn t ...  NEGATIVE   \n",
              "\n",
              "                                    Review Tokenized  \\\n",
              "0  [great, music, service, the, audio, is, high, ...   \n",
              "1  [please, ignore, previous, negative, rating, t...   \n",
              "2  [this, pop, up, get, the, best, spotify, exper...   \n",
              "3  [really, buggy, and, terrible, to, use, as, of...   \n",
              "4  [dear, spotify, why, do, i, get, songs, that, ...   \n",
              "\n",
              "                            Review Without Stopwords  \\\n",
              "0  [great, service, audio, high, quality, easy, u...   \n",
              "1  [please, ignore, previous, negative, rating, s...   \n",
              "2  [pop, best, experience, android, annoying, ple...   \n",
              "3           [really, buggy, terrible, use, recently]   \n",
              "4                               [dear, put, shuffle]   \n",
              "\n",
              "                                   Review Lemmatized  \n",
              "0  [great, service, audio, high, quality, easy, u...  \n",
              "1  [please, ignore, previous, negative, rat, supe...  \n",
              "2  [pop, best, experience, android, annoy, please...  \n",
              "3           [really, buggy, terrible, use, recently]  \n",
              "4                               [dear, put, shuffle]  "
            ]
          },
          "execution_count": 8,
          "metadata": {},
          "output_type": "execute_result"
        }
      ],
      "source": [
        "lemmatizer = WordNetLemmatizer()\n",
        "lemmatized_reviews = []\n",
        "for review in data['Review Without Stopwords']:\n",
        "    lemmatized_review = [lemmatizer.lemmatize(word,pos='v') for word in review]\n",
        "    lemmatized_reviews.append(lemmatized_review)\n",
        "data['Review Lemmatized'] = lemmatized_reviews\n",
        "data.head()"
      ]
    },
    {
      "cell_type": "code",
      "execution_count": 9,
      "metadata": {
        "colab": {
          "base_uri": "https://localhost:8080/",
          "height": 328
        },
        "id": "YY7kIxew5lTw",
        "outputId": "31c04de9-3b64-4706-dfa7-f8f23e4aca6a"
      },
      "outputs": [
        {
          "data": {
            "text/html": [
              "<div>\n",
              "<style scoped>\n",
              "    .dataframe tbody tr th:only-of-type {\n",
              "        vertical-align: middle;\n",
              "    }\n",
              "\n",
              "    .dataframe tbody tr th {\n",
              "        vertical-align: top;\n",
              "    }\n",
              "\n",
              "    .dataframe thead th {\n",
              "        text-align: right;\n",
              "    }\n",
              "</style>\n",
              "<table border=\"1\" class=\"dataframe\">\n",
              "  <thead>\n",
              "    <tr style=\"text-align: right;\">\n",
              "      <th></th>\n",
              "      <th>Review</th>\n",
              "      <th>label</th>\n",
              "      <th>Review Tokenized</th>\n",
              "      <th>Review Without Stopwords</th>\n",
              "      <th>Review Lemmatized</th>\n",
              "      <th>Processed Reviews</th>\n",
              "    </tr>\n",
              "  </thead>\n",
              "  <tbody>\n",
              "    <tr>\n",
              "      <th>0</th>\n",
              "      <td>great music service  the audio is high quality...</td>\n",
              "      <td>POSITIVE</td>\n",
              "      <td>[great, music, service, the, audio, is, high, ...</td>\n",
              "      <td>[great, service, audio, high, quality, easy, u...</td>\n",
              "      <td>[great, service, audio, high, quality, easy, u...</td>\n",
              "      <td>great service audio high quality easy use also...</td>\n",
              "    </tr>\n",
              "    <tr>\n",
              "      <th>1</th>\n",
              "      <td>please ignore previous negative rating  this a...</td>\n",
              "      <td>POSITIVE</td>\n",
              "      <td>[please, ignore, previous, negative, rating, t...</td>\n",
              "      <td>[please, ignore, previous, negative, rating, s...</td>\n",
              "      <td>[please, ignore, previous, negative, rat, supe...</td>\n",
              "      <td>please ignore previous negative rat super grea...</td>\n",
              "    </tr>\n",
              "    <tr>\n",
              "      <th>2</th>\n",
              "      <td>this pop up  get the best spotify experience o...</td>\n",
              "      <td>NEGATIVE</td>\n",
              "      <td>[this, pop, up, get, the, best, spotify, exper...</td>\n",
              "      <td>[pop, best, experience, android, annoying, ple...</td>\n",
              "      <td>[pop, best, experience, android, annoy, please...</td>\n",
              "      <td>pop best experience android annoy please let rid</td>\n",
              "    </tr>\n",
              "    <tr>\n",
              "      <th>3</th>\n",
              "      <td>really buggy and terrible to use as of recently</td>\n",
              "      <td>NEGATIVE</td>\n",
              "      <td>[really, buggy, and, terrible, to, use, as, of...</td>\n",
              "      <td>[really, buggy, terrible, use, recently]</td>\n",
              "      <td>[really, buggy, terrible, use, recently]</td>\n",
              "      <td>really buggy terrible use recently</td>\n",
              "    </tr>\n",
              "    <tr>\n",
              "      <th>4</th>\n",
              "      <td>dear spotify why do i get songs that i didn t ...</td>\n",
              "      <td>NEGATIVE</td>\n",
              "      <td>[dear, spotify, why, do, i, get, songs, that, ...</td>\n",
              "      <td>[dear, put, shuffle]</td>\n",
              "      <td>[dear, put, shuffle]</td>\n",
              "      <td>dear put shuffle</td>\n",
              "    </tr>\n",
              "  </tbody>\n",
              "</table>\n",
              "</div>"
            ],
            "text/plain": [
              "                                              Review     label  \\\n",
              "0  great music service  the audio is high quality...  POSITIVE   \n",
              "1  please ignore previous negative rating  this a...  POSITIVE   \n",
              "2  this pop up  get the best spotify experience o...  NEGATIVE   \n",
              "3    really buggy and terrible to use as of recently  NEGATIVE   \n",
              "4  dear spotify why do i get songs that i didn t ...  NEGATIVE   \n",
              "\n",
              "                                    Review Tokenized  \\\n",
              "0  [great, music, service, the, audio, is, high, ...   \n",
              "1  [please, ignore, previous, negative, rating, t...   \n",
              "2  [this, pop, up, get, the, best, spotify, exper...   \n",
              "3  [really, buggy, and, terrible, to, use, as, of...   \n",
              "4  [dear, spotify, why, do, i, get, songs, that, ...   \n",
              "\n",
              "                            Review Without Stopwords  \\\n",
              "0  [great, service, audio, high, quality, easy, u...   \n",
              "1  [please, ignore, previous, negative, rating, s...   \n",
              "2  [pop, best, experience, android, annoying, ple...   \n",
              "3           [really, buggy, terrible, use, recently]   \n",
              "4                               [dear, put, shuffle]   \n",
              "\n",
              "                                   Review Lemmatized  \\\n",
              "0  [great, service, audio, high, quality, easy, u...   \n",
              "1  [please, ignore, previous, negative, rat, supe...   \n",
              "2  [pop, best, experience, android, annoy, please...   \n",
              "3           [really, buggy, terrible, use, recently]   \n",
              "4                               [dear, put, shuffle]   \n",
              "\n",
              "                                   Processed Reviews  \n",
              "0  great service audio high quality easy use also...  \n",
              "1  please ignore previous negative rat super grea...  \n",
              "2   pop best experience android annoy please let rid  \n",
              "3                 really buggy terrible use recently  \n",
              "4                                   dear put shuffle  "
            ]
          },
          "execution_count": 9,
          "metadata": {},
          "output_type": "execute_result"
        }
      ],
      "source": [
        "processed_reviews = []\n",
        "for review in data['Review Lemmatized']:\n",
        "    review = ' '.join(review)\n",
        "    processed_reviews.append(review)\n",
        "data['Processed Reviews'] = processed_reviews\n",
        "data.head()"
      ]
    },
    {
      "cell_type": "code",
      "execution_count": 10,
      "metadata": {
        "colab": {
          "base_uri": "https://localhost:8080/"
        },
        "id": "1UPeeefT5lTw",
        "outputId": "ff46c0e2-22be-4fb6-a5d2-6566ffed67ba"
      },
      "outputs": [
        {
          "data": {
            "text/plain": [
              "17448"
            ]
          },
          "execution_count": 10,
          "metadata": {},
          "output_type": "execute_result"
        }
      ],
      "source": [
        "tokenizer = Tokenizer()\n",
        "tokenizer.fit_on_texts(data['Processed Reviews'])\n",
        "vocab_size = len(tokenizer.word_index) + 1\n",
        "vocab_size"
      ]
    },
    {
      "cell_type": "code",
      "execution_count": 11,
      "metadata": {
        "id": "nzBxJSGP5lTw"
      },
      "outputs": [],
      "source": [
        "input_sequences = tokenizer.texts_to_sequences(data['Review'])\n",
        "input_sequences = np.array(pad_sequences(input_sequences, padding='pre'))"
      ]
    },
    {
      "cell_type": "code",
      "execution_count": 12,
      "metadata": {
        "colab": {
          "base_uri": "https://localhost:8080/",
          "height": 458
        },
        "id": "EoEzOcxg5lTx",
        "outputId": "f9ded3ed-4418-4903-9654-92ba11782320"
      },
      "outputs": [
        {
          "data": {
            "text/plain": [
              "0        1\n",
              "1        1\n",
              "2        0\n",
              "3        0\n",
              "4        0\n",
              "        ..\n",
              "52697    1\n",
              "52698    1\n",
              "52699    1\n",
              "52700    1\n",
              "52701    1\n",
              "Name: label, Length: 52686, dtype: int64"
            ]
          },
          "execution_count": 12,
          "metadata": {},
          "output_type": "execute_result"
        }
      ],
      "source": [
        "y = data['label'].map({'POSITIVE':1, 'NEGATIVE':0})\n",
        "y"
      ]
    },
    {
      "cell_type": "code",
      "execution_count": 13,
      "metadata": {
        "id": "5hJpN1zo5lTx"
      },
      "outputs": [],
      "source": [
        "x_train, x_test, y_train, y_test = train_test_split(input_sequences, y, test_size=0.2)\n",
        "x_train, x_val, y_train, y_val = train_test_split(x_train, y_train, test_size=0.25)"
      ]
    },
    {
      "cell_type": "code",
      "execution_count": 14,
      "metadata": {
        "colab": {
          "base_uri": "https://localhost:8080/"
        },
        "id": "75Pa67Uq5lTx",
        "outputId": "dfbea96f-7c0a-4d82-cf79-f1a29547521f"
      },
      "outputs": [
        {
          "data": {
            "text/plain": [
              "(31611, 118)"
            ]
          },
          "execution_count": 14,
          "metadata": {},
          "output_type": "execute_result"
        }
      ],
      "source": [
        "x_train.shape"
      ]
    },
    {
      "cell_type": "code",
      "execution_count": null,
      "metadata": {
        "id": "fFsIYpwY5lTx",
        "outputId": "c52c7232-7ce2-448d-a8fe-e29383550a96"
      },
      "outputs": [
        {
          "data": {
            "text/html": [
              "<pre style=\"white-space:pre;overflow-x:auto;line-height:normal;font-family:Menlo,'DejaVu Sans Mono',consolas,'Courier New',monospace\"><span style=\"font-weight: bold\">Model: \"sequential_1\"</span>\n",
              "</pre>\n"
            ],
            "text/plain": [
              "\u001b[1mModel: \"sequential_1\"\u001b[0m\n"
            ]
          },
          "metadata": {},
          "output_type": "display_data"
        },
        {
          "data": {
            "text/html": [
              "<pre style=\"white-space:pre;overflow-x:auto;line-height:normal;font-family:Menlo,'DejaVu Sans Mono',consolas,'Courier New',monospace\">┏━━━━━━━━━━━━━━━━━━━━━━━━━━━━━━━━━┳━━━━━━━━━━━━━━━━━━━━━━━━┳━━━━━━━━━━━━━━━┓\n",
              "┃<span style=\"font-weight: bold\"> Layer (type)                    </span>┃<span style=\"font-weight: bold\"> Output Shape           </span>┃<span style=\"font-weight: bold\">       Param # </span>┃\n",
              "┡━━━━━━━━━━━━━━━━━━━━━━━━━━━━━━━━━╇━━━━━━━━━━━━━━━━━━━━━━━━╇━━━━━━━━━━━━━━━┩\n",
              "│ embedding_1 (<span style=\"color: #0087ff; text-decoration-color: #0087ff\">Embedding</span>)         │ ?                      │   <span style=\"color: #00af00; text-decoration-color: #00af00\">0</span> (unbuilt) │\n",
              "├─────────────────────────────────┼────────────────────────┼───────────────┤\n",
              "│ bidirectional_2 (<span style=\"color: #0087ff; text-decoration-color: #0087ff\">Bidirectional</span>) │ ?                      │   <span style=\"color: #00af00; text-decoration-color: #00af00\">0</span> (unbuilt) │\n",
              "├─────────────────────────────────┼────────────────────────┼───────────────┤\n",
              "│ dropout_1 (<span style=\"color: #0087ff; text-decoration-color: #0087ff\">Dropout</span>)             │ ?                      │             <span style=\"color: #00af00; text-decoration-color: #00af00\">0</span> │\n",
              "├─────────────────────────────────┼────────────────────────┼───────────────┤\n",
              "│ bidirectional_3 (<span style=\"color: #0087ff; text-decoration-color: #0087ff\">Bidirectional</span>) │ ?                      │   <span style=\"color: #00af00; text-decoration-color: #00af00\">0</span> (unbuilt) │\n",
              "├─────────────────────────────────┼────────────────────────┼───────────────┤\n",
              "│ dense_1 (<span style=\"color: #0087ff; text-decoration-color: #0087ff\">Dense</span>)                 │ ?                      │   <span style=\"color: #00af00; text-decoration-color: #00af00\">0</span> (unbuilt) │\n",
              "└─────────────────────────────────┴────────────────────────┴───────────────┘\n",
              "</pre>\n"
            ],
            "text/plain": [
              "┏━━━━━━━━━━━━━━━━━━━━━━━━━━━━━━━━━┳━━━━━━━━━━━━━━━━━━━━━━━━┳━━━━━━━━━━━━━━━┓\n",
              "┃\u001b[1m \u001b[0m\u001b[1mLayer (type)                   \u001b[0m\u001b[1m \u001b[0m┃\u001b[1m \u001b[0m\u001b[1mOutput Shape          \u001b[0m\u001b[1m \u001b[0m┃\u001b[1m \u001b[0m\u001b[1m      Param #\u001b[0m\u001b[1m \u001b[0m┃\n",
              "┡━━━━━━━━━━━━━━━━━━━━━━━━━━━━━━━━━╇━━━━━━━━━━━━━━━━━━━━━━━━╇━━━━━━━━━━━━━━━┩\n",
              "│ embedding_1 (\u001b[38;5;33mEmbedding\u001b[0m)         │ ?                      │   \u001b[38;5;34m0\u001b[0m (unbuilt) │\n",
              "├─────────────────────────────────┼────────────────────────┼───────────────┤\n",
              "│ bidirectional_2 (\u001b[38;5;33mBidirectional\u001b[0m) │ ?                      │   \u001b[38;5;34m0\u001b[0m (unbuilt) │\n",
              "├─────────────────────────────────┼────────────────────────┼───────────────┤\n",
              "│ dropout_1 (\u001b[38;5;33mDropout\u001b[0m)             │ ?                      │             \u001b[38;5;34m0\u001b[0m │\n",
              "├─────────────────────────────────┼────────────────────────┼───────────────┤\n",
              "│ bidirectional_3 (\u001b[38;5;33mBidirectional\u001b[0m) │ ?                      │   \u001b[38;5;34m0\u001b[0m (unbuilt) │\n",
              "├─────────────────────────────────┼────────────────────────┼───────────────┤\n",
              "│ dense_1 (\u001b[38;5;33mDense\u001b[0m)                 │ ?                      │   \u001b[38;5;34m0\u001b[0m (unbuilt) │\n",
              "└─────────────────────────────────┴────────────────────────┴───────────────┘\n"
            ]
          },
          "metadata": {},
          "output_type": "display_data"
        },
        {
          "data": {
            "text/html": [
              "<pre style=\"white-space:pre;overflow-x:auto;line-height:normal;font-family:Menlo,'DejaVu Sans Mono',consolas,'Courier New',monospace\"><span style=\"font-weight: bold\"> Total params: </span><span style=\"color: #00af00; text-decoration-color: #00af00\">0</span> (0.00 B)\n",
              "</pre>\n"
            ],
            "text/plain": [
              "\u001b[1m Total params: \u001b[0m\u001b[38;5;34m0\u001b[0m (0.00 B)\n"
            ]
          },
          "metadata": {},
          "output_type": "display_data"
        },
        {
          "data": {
            "text/html": [
              "<pre style=\"white-space:pre;overflow-x:auto;line-height:normal;font-family:Menlo,'DejaVu Sans Mono',consolas,'Courier New',monospace\"><span style=\"font-weight: bold\"> Trainable params: </span><span style=\"color: #00af00; text-decoration-color: #00af00\">0</span> (0.00 B)\n",
              "</pre>\n"
            ],
            "text/plain": [
              "\u001b[1m Trainable params: \u001b[0m\u001b[38;5;34m0\u001b[0m (0.00 B)\n"
            ]
          },
          "metadata": {},
          "output_type": "display_data"
        },
        {
          "data": {
            "text/html": [
              "<pre style=\"white-space:pre;overflow-x:auto;line-height:normal;font-family:Menlo,'DejaVu Sans Mono',consolas,'Courier New',monospace\"><span style=\"font-weight: bold\"> Non-trainable params: </span><span style=\"color: #00af00; text-decoration-color: #00af00\">0</span> (0.00 B)\n",
              "</pre>\n"
            ],
            "text/plain": [
              "\u001b[1m Non-trainable params: \u001b[0m\u001b[38;5;34m0\u001b[0m (0.00 B)\n"
            ]
          },
          "metadata": {},
          "output_type": "display_data"
        }
      ],
      "source": [
        "model = Sequential([\n",
        "    Embedding(vocab_size,131),\n",
        "    Bidirectional(LSTM(131, return_sequences=True)),\n",
        "    Dropout(0.2),\n",
        "    Bidirectional(LSTM(32)),\n",
        "    Dense(1, activation='sigmoid')\n",
        "])\n",
        "model.compile(optimizer='adam', loss='binary_crossentropy', metrics=['accuracy'])\n",
        "model.summary()"
      ]
    },
    {
      "cell_type": "code",
      "execution_count": null,
      "metadata": {
        "id": "99dtgDUI5lTx",
        "outputId": "cc9e43a5-bb5c-43ca-eb37-2b1e78a4c20e"
      },
      "outputs": [
        {
          "name": "stdout",
          "output_type": "stream",
          "text": [
            "Epoch 1/50\n",
            "\u001b[1m988/988\u001b[0m \u001b[32m━━━━━━━━━━━━━━━━━━━━\u001b[0m\u001b[37m\u001b[0m \u001b[1m438s\u001b[0m 441ms/step - accuracy: 0.8108 - loss: 0.4160 - val_accuracy: 0.8687 - val_loss: 0.3093\n",
            "Epoch 2/50\n",
            "\u001b[1m988/988\u001b[0m \u001b[32m━━━━━━━━━━━━━━━━━━━━\u001b[0m\u001b[37m\u001b[0m \u001b[1m195s\u001b[0m 197ms/step - accuracy: 0.8919 - loss: 0.2686 - val_accuracy: 0.8667 - val_loss: 0.3109\n",
            "Epoch 3/50\n",
            "\u001b[1m988/988\u001b[0m \u001b[32m━━━━━━━━━━━━━━━━━━━━\u001b[0m\u001b[37m\u001b[0m \u001b[1m419s\u001b[0m 424ms/step - accuracy: 0.9078 - loss: 0.2201 - val_accuracy: 0.8635 - val_loss: 0.3231\n",
            "Epoch 4/50\n",
            "\u001b[1m988/988\u001b[0m \u001b[32m━━━━━━━━━━━━━━━━━━━━\u001b[0m\u001b[37m\u001b[0m \u001b[1m2218s\u001b[0m 2s/step - accuracy: 0.9239 - loss: 0.1914 - val_accuracy: 0.8605 - val_loss: 0.3342\n",
            "Epoch 5/50\n",
            "\u001b[1m988/988\u001b[0m \u001b[32m━━━━━━━━━━━━━━━━━━━━\u001b[0m\u001b[37m\u001b[0m \u001b[1m202s\u001b[0m 205ms/step - accuracy: 0.9327 - loss: 0.1686 - val_accuracy: 0.8528 - val_loss: 0.3939\n",
            "Epoch 6/50\n",
            "\u001b[1m988/988\u001b[0m \u001b[32m━━━━━━━━━━━━━━━━━━━━\u001b[0m\u001b[37m\u001b[0m \u001b[1m651s\u001b[0m 660ms/step - accuracy: 0.9438 - loss: 0.1426 - val_accuracy: 0.8501 - val_loss: 0.4523\n",
            "Epoch 6: early stopping\n",
            "Restoring model weights from the end of the best epoch: 1.\n"
          ]
        }
      ],
      "source": [
        "early_stopping = EarlyStopping(monitor='val_accuracy',mode='max',patience=5,verbose=1, restore_best_weights=True)\n",
        "history = model.fit(x_train, y_train, epochs=50, validation_data=(x_val,y_val), verbose=1, callbacks=[early_stopping])"
      ]
    },
    {
      "cell_type": "code",
      "execution_count": null,
      "metadata": {
        "id": "EezeBJaP5lTx",
        "outputId": "42a53b07-b6cd-4394-fdfa-095927558133"
      },
      "outputs": [
        {
          "data": {
            "text/plain": [
              "<matplotlib.legend.Legend at 0x361069c40>"
            ]
          },
          "execution_count": 23,
          "metadata": {},
          "output_type": "execute_result"
        },
        {
          "data": {
            "image/png": "[encoded data removed]",
            "text/plain": [
              "<Figure size 1200x400 with 2 Axes>"
            ]
          },
          "metadata": {},
          "output_type": "display_data"
        }
      ],
      "source": [
        "plt.figure(figsize=(12,4))\n",
        "plt.subplot(1,2,1)\n",
        "plt.title('Loss')\n",
        "plt.plot(history.history['loss'], label='Training')\n",
        "plt.plot(history.history['val_loss'], label='Validation')\n",
        "plt.legend()\n",
        "\n",
        "plt.subplot(1,2,2)\n",
        "plt.title('Accuracy')\n",
        "plt.plot(history.history['accuracy'], label='Training')\n",
        "plt.plot(history.history['val_accuracy'], label='Validation')\n",
        "plt.legend()"
      ]
    },
    {
      "cell_type": "code",
      "execution_count": null,
      "metadata": {
        "id": "XhuFI72E5lTx",
        "outputId": "d8c5ec94-18c3-431d-b23d-82901420e7e0"
      },
      "outputs": [
        {
          "name": "stdout",
          "output_type": "stream",
          "text": [
            "\u001b[1m330/330\u001b[0m \u001b[32m━━━━━━━━━━━━━━━━━━━━\u001b[0m\u001b[37m\u001b[0m \u001b[1m16s\u001b[0m 49ms/step\n",
            "Test Accuracy: 0.8649648889732398\n"
          ]
        }
      ],
      "source": [
        "pred = model.predict(x_test)\n",
        "y_pred = [(1 if p>=0.5 else 0) for p in pred]\n",
        "y_test = list(y_test)\n",
        "matching = [(1 if y_pred[i]==y_test[i] else 0) for i in range(len(y_test))]\n",
        "test_accuracy = np.sum(matching)/len(matching)\n",
        "accuracy = f'{test_accuracy*100:.2f}%'\n",
        "print('Test Accuracy:',test_accuracy)"
      ]
    },
    {
      "cell_type": "code",
      "execution_count": 17,
      "metadata": {
        "id": "0XwIS0j76cvM"
      },
      "outputs": [],
      "source": [
        "# class TransformerBlock(Layer):\n",
        "#     def __init__(self, d_model, num_heads, dropout_rate=0.2):\n",
        "#         super().__init__()\n",
        "#         self.attn = tf.keras.layers.MultiHeadAttention(num_heads, d_model)\n",
        "#         self.ffn = tf.keras.Sequential([\n",
        "#             Dense(d_model * 2, activation='relu'),\n",
        "#         ])\n",
        "#         self.norm1 = LayerNormalization(epsilon=1e-6)\n",
        "#         self.norm2 = LayerNormalization(epsilon=1e-6)\n",
        "#         self.dropout1 = Dropout(dropout_rate)\n",
        "#         self.dropout2 = Dropout(dropout_rate)\n",
        "\n",
        "#     def call(self, inputs):\n",
        "#         attn_output = self.attn(inputs, inputs, inputs)\n",
        "#         out1 = self.norm1(inputs + attn_output)\n",
        "#         ffn_output = self.ffn(out1)\n",
        "#         ffn_output = self.dropout2(ffn_output)\n",
        "#         out2 = self.norm2(out1 + ffn_output)\n",
        "#         return out2\n",
        "\n",
        "def transformer(vocab_size, max_len, d_model, num_layers, num_heads):\n",
        "    input_ids = Input(shape=(max_len,))\n",
        "    token_embeddings = Embedding(vocab_size, d_model)(input_ids)\n",
        "    x = token_embeddings\n",
        "    for _ in range(num_layers):\n",
        "        # x = TransformerBlock(d_model, num_heads)(x)\n",
        "        x1 = MultiHeadAttention(num_heads, d_model)(x,x,x)\n",
        "        x1 = Dropout(0.2)(x1)\n",
        "        x2 = LayerNormalization(epsilon=1e-6)(x + x1)\n",
        "        x3 = Dense(d_model * 2, activation='relu')(x2)\n",
        "        x3 = Dense(d_model, activation='relu')(x3)\n",
        "        x3 = Dropout(0.2)(x3)\n",
        "        x = LayerNormalization(epsilon=1e-6)(x2 + x3)\n",
        "    x = GlobalAveragePooling1D()(x)\n",
        "    outputs = Dense(1, activation='sigmoid')(x)\n",
        "    model = Model(inputs=input_ids, outputs=outputs)\n",
        "    return model\n",
        "\n",
        "model1 = transformer(vocab_size=vocab_size, max_len=x_train.shape[1], d_model=32, num_layers=3, num_heads=4)\n",
        "model1.compile(loss='binary_crossentropy', optimizer='adam', metrics=['accuracy'])"
      ]
    },
    {
      "cell_type": "code",
      "execution_count": 18,
      "metadata": {
        "colab": {
          "base_uri": "https://localhost:8080/"
        },
        "id": "xWNKgPPw6iX4",
        "outputId": "73983e40-8661-452f-9e74-e992495db421"
      },
      "outputs": [
        {
          "name": "stdout",
          "output_type": "stream",
          "text": [
            "Epoch 1/5\n",
            "\u001b[1m124/124\u001b[0m \u001b[32m━━━━━━━━━━━━━━━━━━━━\u001b[0m\u001b[37m\u001b[0m \u001b[1m73s\u001b[0m 564ms/step - accuracy: 0.6431 - loss: 0.6458 - val_accuracy: 0.8579 - val_loss: 0.3388 - learning_rate: 0.0010\n",
            "Epoch 2/5\n",
            "\u001b[1m124/124\u001b[0m \u001b[32m━━━━━━━━━━━━━━━━━━━━\u001b[0m\u001b[37m\u001b[0m \u001b[1m0s\u001b[0m 482ms/step - accuracy: 0.8723 - loss: 0.3074\n",
            "Epoch 2: ReduceLROnPlateau reducing learning rate to 0.00020000000949949026.\n",
            "\u001b[1m124/124\u001b[0m \u001b[32m━━━━━━━━━━━━━━━━━━━━\u001b[0m\u001b[37m\u001b[0m \u001b[1m69s\u001b[0m 558ms/step - accuracy: 0.8723 - loss: 0.3074 - val_accuracy: 0.8566 - val_loss: 0.3217 - learning_rate: 0.0010\n",
            "Epoch 3/5\n",
            "\u001b[1m124/124\u001b[0m \u001b[32m━━━━━━━━━━━━━━━━━━━━\u001b[0m\u001b[37m\u001b[0m \u001b[1m72s\u001b[0m 585ms/step - accuracy: 0.8966 - loss: 0.2521 - val_accuracy: 0.8585 - val_loss: 0.3417 - learning_rate: 2.0000e-04\n",
            "Epoch 4/5\n",
            "\u001b[1m124/124\u001b[0m \u001b[32m━━━━━━━━━━━━━━━━━━━━\u001b[0m\u001b[37m\u001b[0m \u001b[1m0s\u001b[0m 492ms/step - accuracy: 0.9088 - loss: 0.2324\n",
            "Epoch 4: ReduceLROnPlateau reducing learning rate to 0.0001.\n",
            "\u001b[1m124/124\u001b[0m \u001b[32m━━━━━━━━━━━━━━━━━━━━\u001b[0m\u001b[37m\u001b[0m \u001b[1m70s\u001b[0m 567ms/step - accuracy: 0.9087 - loss: 0.2324 - val_accuracy: 0.8557 - val_loss: 0.3529 - learning_rate: 2.0000e-04\n",
            "Epoch 5/5\n",
            "\u001b[1m124/124\u001b[0m \u001b[32m━━━━━━━━━━━━━━━━━━━━\u001b[0m\u001b[37m\u001b[0m \u001b[1m70s\u001b[0m 563ms/step - accuracy: 0.9096 - loss: 0.2266 - val_accuracy: 0.8530 - val_loss: 0.3654 - learning_rate: 1.0000e-04\n"
          ]
        }
      ],
      "source": [
        "reduce_lr = ReduceLROnPlateau(monitor='val_accuracy', mode='max', factor=0.2, patience=1, verbose=1, min_lr=0.0001)\n",
        "history1=model1.fit(x_train,y_train,epochs=5,validation_data=(x_val,y_val),batch_size=256,verbose=1,callbacks=[reduce_lr])"
      ]
    },
    {
      "cell_type": "code",
      "execution_count": 19,
      "metadata": {
        "colab": {
          "base_uri": "https://localhost:8080/",
          "height": 332
        },
        "id": "vSuLrrPq7CWI",
        "outputId": "54d63629-88d4-4fff-8ae1-fc8347f65b9a"
      },
      "outputs": [
        {
          "data": {
            "text/plain": [
              "<matplotlib.legend.Legend at 0x316e53980>"
            ]
          },
          "execution_count": 19,
          "metadata": {},
          "output_type": "execute_result"
        },
        {
          "data": {
            "image/png": "[encoded data removed]",
            "text/plain": [
              "<Figure size 1000x300 with 2 Axes>"
            ]
          },
          "metadata": {},
          "output_type": "display_data"
        }
      ],
      "source": [
        "plt.figure(figsize=(10,3))\n",
        "\n",
        "plt.subplot(1,2,1)\n",
        "plt.title('Loss')\n",
        "plt.plot(history1.history['loss'], label='Training')\n",
        "plt.plot(history1.history['val_loss'], label='Validation')\n",
        "plt.legend()\n",
        "\n",
        "plt.subplot(1,2,2)\n",
        "plt.title('Accuracy')\n",
        "plt.plot(history1.history['accuracy'], label='Training')\n",
        "plt.plot(history1.history['val_accuracy'], label='Validation')\n",
        "plt.legend()"
      ]
    },
    {
      "cell_type": "code",
      "execution_count": 20,
      "metadata": {
        "colab": {
          "base_uri": "https://localhost:8080/"
        },
        "id": "pHE0dKaw7EGY",
        "outputId": "99b14f10-9433-4e76-fe00-3e80ce1f30f2"
      },
      "outputs": [
        {
          "name": "stdout",
          "output_type": "stream",
          "text": [
            "\u001b[1m330/330\u001b[0m \u001b[32m━━━━━━━━━━━━━━━━━━━━\u001b[0m\u001b[37m\u001b[0m \u001b[1m12s\u001b[0m 37ms/step\n",
            "Test Accuracy: 0.8525336876067565\n"
          ]
        }
      ],
      "source": [
        "pred1 = model1.predict(x_test)\n",
        "y_pred1 = [(1 if p>=0.5 else 0) for p in pred1]\n",
        "y_test = list(y_test)\n",
        "matching1 = [(1 if y_pred1[i]==y_test[i] else 0) for i in range(len(y_test))]\n",
        "test_accuracy1 = np.sum(matching1)/len(matching1)\n",
        "accuracy1 = f'{test_accuracy1*100:.2f}%'\n",
        "print('Test Accuracy:',test_accuracy1)"
      ]
    },
    {
      "cell_type": "code",
      "execution_count": 21,
      "metadata": {
        "id": "OtmKB0yP6b9r"
      },
      "outputs": [],
      "source": [
        "with open('README.txt','w') as f:\n",
        "    f.write('Model Accuracy: '+f'{max(test_accuracy,test_accuracy1)*100:.2f}%')"
      ]
    }
  ],
  "metadata": {
    "accelerator": "GPU",
    "colab": {
      "gpuType": "T4",
      "provenance": []
    },
    "kernelspec": {
      "display_name": "Python 3",
      "name": "python3"
    },
    "language_info": {
      "codemirror_mode": {
        "name": "ipython",
        "version": 3
      },
      "file_extension": ".py",
      "mimetype": "text/x-python",
      "name": "python",
      "nbconvert_exporter": "python",
      "pygments_lexer": "ipython3",
      "version": "3.12.0"
    }
  },
  "nbformat": 4,
  "nbformat_minor": 0
}
